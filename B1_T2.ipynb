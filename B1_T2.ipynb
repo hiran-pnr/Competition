{
 "cells": [
  {
   "cell_type": "markdown",
   "id": "932faa5c",
   "metadata": {},
   "source": [
    "# Employee Evaluation for Promotion"
   ]
  },
  {
   "cell_type": "markdown",
   "id": "33d33d1b",
   "metadata": {},
   "source": [
    "## Problem:"
   ]
  },
  {
   "cell_type": "markdown",
   "id": "a708ae7e",
   "metadata": {},
   "source": [
    "The HR team stored data of promotion cycle last year, which consists of details of all the employees in the company working last year and also if they got promoted or not, but every time this process gets delayed due to so many details available for each employee - it gets difficult to compare and decide.\n",
    "So this time HR team wants to utilize the stored data to make a model, that will predict if a person is eligible for promotion or not.\n",
    "Need to come up with a model that will help the HR team to predict if a person is eligible for promotion or not."
   ]
  },
  {
   "cell_type": "markdown",
   "id": "a9addb1d",
   "metadata": {},
   "source": [
    "## Data Dictionary"
   ]
  },
  {
   "cell_type": "markdown",
   "id": "5d6aa5cc",
   "metadata": {},
   "source": [
    "• employeeid: Unique ID for the employee.\n",
    "\n",
    "• department: Department of employee \n",
    "\n",
    "• region: Region of employment (unordered) \n",
    "\n",
    "• education: Education Level \n",
    "\n",
    "• gender: Gender of Employee \n",
    "\n",
    "• recruitmentchannel: Channel of recruitment for employee\n",
    "\n",
    "• no_ of_ trainings: no of other trainings completed in the previous year on soft skills, technical skills, etc.\n",
    "\n",
    "• age: Age of Employee\n",
    "\n",
    "• previous_ year_ rating: Employee Rating for the previous year\n",
    "\n",
    "• length_ of_ service: Length of service in years\n",
    "\n",
    "• awards_ won: if awards won during the previous year then 1 else 0\n",
    "\n",
    "• avg_ training_ score: Average score in current training evaluations\n",
    "\n",
    "• is_promoted: (Target) Recommended for promotion"
   ]
  },
  {
   "cell_type": "markdown",
   "id": "abe1139d",
   "metadata": {},
   "source": [
    "# Reading and describing data"
   ]
  },
  {
   "cell_type": "code",
   "execution_count": 1,
   "id": "01625d59",
   "metadata": {},
   "outputs": [],
   "source": [
    "# Importing necessary libraries:\n",
    "\n",
    "import pandas as pd\n",
    "import numpy as np\n",
    "import matplotlib.pyplot as plt\n",
    "import seaborn as sns"
   ]
  },
  {
   "cell_type": "code",
   "execution_count": 2,
   "id": "b35ae228",
   "metadata": {},
   "outputs": [
    {
     "data": {
      "text/html": [
       "<div>\n",
       "<style scoped>\n",
       "    .dataframe tbody tr th:only-of-type {\n",
       "        vertical-align: middle;\n",
       "    }\n",
       "\n",
       "    .dataframe tbody tr th {\n",
       "        vertical-align: top;\n",
       "    }\n",
       "\n",
       "    .dataframe thead th {\n",
       "        text-align: right;\n",
       "    }\n",
       "</style>\n",
       "<table border=\"1\" class=\"dataframe\">\n",
       "  <thead>\n",
       "    <tr style=\"text-align: right;\">\n",
       "      <th></th>\n",
       "      <th>employee_id</th>\n",
       "      <th>department</th>\n",
       "      <th>region</th>\n",
       "      <th>education</th>\n",
       "      <th>gender</th>\n",
       "      <th>recruitment_channel</th>\n",
       "      <th>no_of_trainings</th>\n",
       "      <th>age</th>\n",
       "      <th>previous_year_rating</th>\n",
       "      <th>length_of_service</th>\n",
       "      <th>awards_won</th>\n",
       "      <th>avg_training_score</th>\n",
       "      <th>is_promoted</th>\n",
       "    </tr>\n",
       "  </thead>\n",
       "  <tbody>\n",
       "    <tr>\n",
       "      <th>0</th>\n",
       "      <td>65438</td>\n",
       "      <td>Sales &amp; Marketing</td>\n",
       "      <td>region_7</td>\n",
       "      <td>Master's &amp; above</td>\n",
       "      <td>f</td>\n",
       "      <td>sourcing</td>\n",
       "      <td>1</td>\n",
       "      <td>35</td>\n",
       "      <td>5.0</td>\n",
       "      <td>8</td>\n",
       "      <td>0</td>\n",
       "      <td>49.0</td>\n",
       "      <td>0</td>\n",
       "    </tr>\n",
       "    <tr>\n",
       "      <th>1</th>\n",
       "      <td>65141</td>\n",
       "      <td>Operations</td>\n",
       "      <td>region_22</td>\n",
       "      <td>Bachelor's</td>\n",
       "      <td>m</td>\n",
       "      <td>other</td>\n",
       "      <td>1</td>\n",
       "      <td>30</td>\n",
       "      <td>5.0</td>\n",
       "      <td>4</td>\n",
       "      <td>0</td>\n",
       "      <td>60.0</td>\n",
       "      <td>0</td>\n",
       "    </tr>\n",
       "    <tr>\n",
       "      <th>2</th>\n",
       "      <td>7513</td>\n",
       "      <td>Sales &amp; Marketing</td>\n",
       "      <td>region_19</td>\n",
       "      <td>Bachelor's</td>\n",
       "      <td>m</td>\n",
       "      <td>sourcing</td>\n",
       "      <td>1</td>\n",
       "      <td>34</td>\n",
       "      <td>3.0</td>\n",
       "      <td>7</td>\n",
       "      <td>0</td>\n",
       "      <td>50.0</td>\n",
       "      <td>0</td>\n",
       "    </tr>\n",
       "    <tr>\n",
       "      <th>3</th>\n",
       "      <td>2542</td>\n",
       "      <td>Sales &amp; Marketing</td>\n",
       "      <td>region_23</td>\n",
       "      <td>Bachelor's</td>\n",
       "      <td>m</td>\n",
       "      <td>other</td>\n",
       "      <td>2</td>\n",
       "      <td>39</td>\n",
       "      <td>1.0</td>\n",
       "      <td>10</td>\n",
       "      <td>0</td>\n",
       "      <td>50.0</td>\n",
       "      <td>0</td>\n",
       "    </tr>\n",
       "    <tr>\n",
       "      <th>4</th>\n",
       "      <td>48945</td>\n",
       "      <td>Technology</td>\n",
       "      <td>region_26</td>\n",
       "      <td>Bachelor's</td>\n",
       "      <td>m</td>\n",
       "      <td>other</td>\n",
       "      <td>1</td>\n",
       "      <td>45</td>\n",
       "      <td>3.0</td>\n",
       "      <td>2</td>\n",
       "      <td>0</td>\n",
       "      <td>73.0</td>\n",
       "      <td>0</td>\n",
       "    </tr>\n",
       "  </tbody>\n",
       "</table>\n",
       "</div>"
      ],
      "text/plain": [
       "   employee_id         department     region         education gender  \\\n",
       "0        65438  Sales & Marketing   region_7  Master's & above      f   \n",
       "1        65141         Operations  region_22        Bachelor's      m   \n",
       "2         7513  Sales & Marketing  region_19        Bachelor's      m   \n",
       "3         2542  Sales & Marketing  region_23        Bachelor's      m   \n",
       "4        48945         Technology  region_26        Bachelor's      m   \n",
       "\n",
       "  recruitment_channel  no_of_trainings  age  previous_year_rating  \\\n",
       "0            sourcing                1   35                   5.0   \n",
       "1               other                1   30                   5.0   \n",
       "2            sourcing                1   34                   3.0   \n",
       "3               other                2   39                   1.0   \n",
       "4               other                1   45                   3.0   \n",
       "\n",
       "   length_of_service  awards_won  avg_training_score  is_promoted  \n",
       "0                  8           0                49.0            0  \n",
       "1                  4           0                60.0            0  \n",
       "2                  7           0                50.0            0  \n",
       "3                 10           0                50.0            0  \n",
       "4                  2           0                73.0            0  "
      ]
     },
     "execution_count": 2,
     "metadata": {},
     "output_type": "execute_result"
    }
   ],
   "source": [
    "# loading dataset\n",
    "\n",
    "data = pd.read_csv('employee_promotion.csv')\n",
    "data.head()"
   ]
  },
  {
   "cell_type": "code",
   "execution_count": 3,
   "id": "9596b13f",
   "metadata": {},
   "outputs": [
    {
     "name": "stdout",
     "output_type": "stream",
     "text": [
      "Number of rows: 54808\n",
      "Number of columns: 13\n"
     ]
    }
   ],
   "source": [
    "# checking number of rows and columns\n",
    "\n",
    "print('Number of rows: {}'.format(data.shape[0]))\n",
    "print('Number of columns: {}'.format(data.shape[1]))"
   ]
  },
  {
   "cell_type": "code",
   "execution_count": 4,
   "id": "1cfcfd8b",
   "metadata": {},
   "outputs": [
    {
     "name": "stdout",
     "output_type": "stream",
     "text": [
      "<class 'pandas.core.frame.DataFrame'>\n",
      "RangeIndex: 54808 entries, 0 to 54807\n",
      "Data columns (total 13 columns):\n",
      " #   Column                Non-Null Count  Dtype  \n",
      "---  ------                --------------  -----  \n",
      " 0   employee_id           54808 non-null  int64  \n",
      " 1   department            54808 non-null  object \n",
      " 2   region                54808 non-null  object \n",
      " 3   education             52399 non-null  object \n",
      " 4   gender                54808 non-null  object \n",
      " 5   recruitment_channel   54808 non-null  object \n",
      " 6   no_of_trainings       54808 non-null  int64  \n",
      " 7   age                   54808 non-null  int64  \n",
      " 8   previous_year_rating  50684 non-null  float64\n",
      " 9   length_of_service     54808 non-null  int64  \n",
      " 10  awards_won            54808 non-null  int64  \n",
      " 11  avg_training_score    52248 non-null  float64\n",
      " 12  is_promoted           54808 non-null  int64  \n",
      "dtypes: float64(2), int64(6), object(5)\n",
      "memory usage: 5.4+ MB\n"
     ]
    }
   ],
   "source": [
    "# checking info\n",
    "\n",
    "data.info()"
   ]
  },
  {
   "cell_type": "code",
   "execution_count": 5,
   "id": "1bad6806",
   "metadata": {},
   "outputs": [
    {
     "data": {
      "text/html": [
       "<div>\n",
       "<style scoped>\n",
       "    .dataframe tbody tr th:only-of-type {\n",
       "        vertical-align: middle;\n",
       "    }\n",
       "\n",
       "    .dataframe tbody tr th {\n",
       "        vertical-align: top;\n",
       "    }\n",
       "\n",
       "    .dataframe thead th {\n",
       "        text-align: right;\n",
       "    }\n",
       "</style>\n",
       "<table border=\"1\" class=\"dataframe\">\n",
       "  <thead>\n",
       "    <tr style=\"text-align: right;\">\n",
       "      <th></th>\n",
       "      <th>employee_id</th>\n",
       "      <th>no_of_trainings</th>\n",
       "      <th>age</th>\n",
       "      <th>previous_year_rating</th>\n",
       "      <th>length_of_service</th>\n",
       "      <th>awards_won</th>\n",
       "      <th>avg_training_score</th>\n",
       "      <th>is_promoted</th>\n",
       "    </tr>\n",
       "  </thead>\n",
       "  <tbody>\n",
       "    <tr>\n",
       "      <th>count</th>\n",
       "      <td>54808.000000</td>\n",
       "      <td>54808.000000</td>\n",
       "      <td>54808.000000</td>\n",
       "      <td>50684.000000</td>\n",
       "      <td>54808.000000</td>\n",
       "      <td>54808.000000</td>\n",
       "      <td>52248.000000</td>\n",
       "      <td>54808.000000</td>\n",
       "    </tr>\n",
       "    <tr>\n",
       "      <th>mean</th>\n",
       "      <td>39195.830627</td>\n",
       "      <td>1.253011</td>\n",
       "      <td>34.803915</td>\n",
       "      <td>3.329256</td>\n",
       "      <td>5.865512</td>\n",
       "      <td>0.023172</td>\n",
       "      <td>63.712238</td>\n",
       "      <td>0.085170</td>\n",
       "    </tr>\n",
       "    <tr>\n",
       "      <th>std</th>\n",
       "      <td>22586.581449</td>\n",
       "      <td>0.609264</td>\n",
       "      <td>7.660169</td>\n",
       "      <td>1.259993</td>\n",
       "      <td>4.265094</td>\n",
       "      <td>0.150450</td>\n",
       "      <td>13.521910</td>\n",
       "      <td>0.279137</td>\n",
       "    </tr>\n",
       "    <tr>\n",
       "      <th>min</th>\n",
       "      <td>1.000000</td>\n",
       "      <td>1.000000</td>\n",
       "      <td>20.000000</td>\n",
       "      <td>1.000000</td>\n",
       "      <td>1.000000</td>\n",
       "      <td>0.000000</td>\n",
       "      <td>39.000000</td>\n",
       "      <td>0.000000</td>\n",
       "    </tr>\n",
       "    <tr>\n",
       "      <th>25%</th>\n",
       "      <td>19669.750000</td>\n",
       "      <td>1.000000</td>\n",
       "      <td>29.000000</td>\n",
       "      <td>3.000000</td>\n",
       "      <td>3.000000</td>\n",
       "      <td>0.000000</td>\n",
       "      <td>51.000000</td>\n",
       "      <td>0.000000</td>\n",
       "    </tr>\n",
       "    <tr>\n",
       "      <th>50%</th>\n",
       "      <td>39225.500000</td>\n",
       "      <td>1.000000</td>\n",
       "      <td>33.000000</td>\n",
       "      <td>3.000000</td>\n",
       "      <td>5.000000</td>\n",
       "      <td>0.000000</td>\n",
       "      <td>60.000000</td>\n",
       "      <td>0.000000</td>\n",
       "    </tr>\n",
       "    <tr>\n",
       "      <th>75%</th>\n",
       "      <td>58730.500000</td>\n",
       "      <td>1.000000</td>\n",
       "      <td>39.000000</td>\n",
       "      <td>4.000000</td>\n",
       "      <td>7.000000</td>\n",
       "      <td>0.000000</td>\n",
       "      <td>77.000000</td>\n",
       "      <td>0.000000</td>\n",
       "    </tr>\n",
       "    <tr>\n",
       "      <th>max</th>\n",
       "      <td>78298.000000</td>\n",
       "      <td>10.000000</td>\n",
       "      <td>60.000000</td>\n",
       "      <td>5.000000</td>\n",
       "      <td>37.000000</td>\n",
       "      <td>1.000000</td>\n",
       "      <td>99.000000</td>\n",
       "      <td>1.000000</td>\n",
       "    </tr>\n",
       "  </tbody>\n",
       "</table>\n",
       "</div>"
      ],
      "text/plain": [
       "        employee_id  no_of_trainings           age  previous_year_rating  \\\n",
       "count  54808.000000     54808.000000  54808.000000          50684.000000   \n",
       "mean   39195.830627         1.253011     34.803915              3.329256   \n",
       "std    22586.581449         0.609264      7.660169              1.259993   \n",
       "min        1.000000         1.000000     20.000000              1.000000   \n",
       "25%    19669.750000         1.000000     29.000000              3.000000   \n",
       "50%    39225.500000         1.000000     33.000000              3.000000   \n",
       "75%    58730.500000         1.000000     39.000000              4.000000   \n",
       "max    78298.000000        10.000000     60.000000              5.000000   \n",
       "\n",
       "       length_of_service    awards_won  avg_training_score   is_promoted  \n",
       "count       54808.000000  54808.000000        52248.000000  54808.000000  \n",
       "mean            5.865512      0.023172           63.712238      0.085170  \n",
       "std             4.265094      0.150450           13.521910      0.279137  \n",
       "min             1.000000      0.000000           39.000000      0.000000  \n",
       "25%             3.000000      0.000000           51.000000      0.000000  \n",
       "50%             5.000000      0.000000           60.000000      0.000000  \n",
       "75%             7.000000      0.000000           77.000000      0.000000  \n",
       "max            37.000000      1.000000           99.000000      1.000000  "
      ]
     },
     "execution_count": 5,
     "metadata": {},
     "output_type": "execute_result"
    }
   ],
   "source": [
    "# checking statistics\n",
    "\n",
    "data.describe()"
   ]
  },
  {
   "cell_type": "markdown",
   "id": "82cf359a",
   "metadata": {},
   "source": [
    "# Exploratory Data Analysis"
   ]
  },
  {
   "cell_type": "markdown",
   "id": "39e5a1fd",
   "metadata": {},
   "source": [
    "# Univariate Analysis"
   ]
  },
  {
   "cell_type": "code",
   "execution_count": 6,
   "id": "dc0d8efa",
   "metadata": {
    "scrolled": false
   },
   "outputs": [
    {
     "data": {
      "image/png": "[encoded data removed]",
      "text/plain": [
       "<Figure size 432x288 with 1 Axes>"
      ]
     },
     "metadata": {
      "needs_background": "light"
     },
     "output_type": "display_data"
    }
   ],
   "source": [
    "# Target Column  ('is_promoted')\n",
    "\n",
    "plt.figure(figsize=(6, 4))\n",
    "sns.countplot(x=data['is_promoted'])\n",
    "plt.show()"
   ]
  },
  {
   "cell_type": "code",
   "execution_count": 7,
   "id": "5824c6c3",
   "metadata": {},
   "outputs": [
    {
     "data": {
      "text/plain": [
       "0    50140\n",
       "1     4668\n",
       "Name: is_promoted, dtype: int64"
      ]
     },
     "execution_count": 7,
     "metadata": {},
     "output_type": "execute_result"
    }
   ],
   "source": [
    "data[\"is_promoted\"].value_counts()"
   ]
  },
  {
   "cell_type": "code",
   "execution_count": 8,
   "id": "88338490",
   "metadata": {},
   "outputs": [
    {
     "data": {
      "text/plain": [
       "0    0.91483\n",
       "1    0.08517\n",
       "Name: is_promoted, dtype: float64"
      ]
     },
     "execution_count": 8,
     "metadata": {},
     "output_type": "execute_result"
    }
   ],
   "source": [
    "data[\"is_promoted\"].value_counts(normalize=True)"
   ]
  },
  {
   "cell_type": "markdown",
   "id": "7980e05e",
   "metadata": {},
   "source": [
    "Inference: The target column is unbalanced. 91% and 9% ratio is very unbalanced."
   ]
  },
  {
   "cell_type": "code",
   "execution_count": 9,
   "id": "6bcf82e4",
   "metadata": {},
   "outputs": [
    {
     "data": {
      "image/png": "[encoded data removed]",
      "text/plain": [
       "<Figure size 1152x576 with 1 Axes>"
      ]
     },
     "metadata": {
      "needs_background": "light"
     },
     "output_type": "display_data"
    }
   ],
   "source": [
    "# Distribution of Employees in different department\n",
    "\n",
    "plt.figure(figsize=(16,8))\n",
    "sns.countplot(y=data['department'])\n",
    "plt.title('Distribution of Employees in different department', color='red', fontsize=20)\n",
    "plt.show()"
   ]
  },
  {
   "cell_type": "markdown",
   "id": "fc3f8aac",
   "metadata": {},
   "source": [
    "Most of the employees are working in 'Sales & Marketing' and least number of employees are from 'Legal' department."
   ]
  },
  {
   "cell_type": "code",
   "execution_count": 10,
   "id": "bb3f3765",
   "metadata": {},
   "outputs": [
    {
     "data": {
      "image/png": "[encoded data removed]",
      "text/plain": [
       "<Figure size 720x432 with 1 Axes>"
      ]
     },
     "metadata": {
      "needs_background": "light"
     },
     "output_type": "display_data"
    }
   ],
   "source": [
    "# Distribution of Employee age\n",
    "\n",
    "plt.figure(figsize=(10,6))\n",
    "plt.hist(x=data['age'], color='green')\n",
    "plt.title('Distribution of Employee age')\n",
    "plt.show()"
   ]
  },
  {
   "cell_type": "code",
   "execution_count": 11,
   "id": "fd484a1c",
   "metadata": {},
   "outputs": [
    {
     "data": {
      "image/png": "[encoded data removed]",
      "text/plain": [
       "<Figure size 720x720 with 1 Axes>"
      ]
     },
     "metadata": {},
     "output_type": "display_data"
    }
   ],
   "source": [
    "# Top 10 region of employment\n",
    "\n",
    "plt.figure(figsize=(10,10))\n",
    "plt.pie(data['region'].value_counts().head(10), labels=data['region'].value_counts().head(10).index, autopct='%1.1f%%')\n",
    "plt.title('Top 10 Regions', color='red', fontsize=20)\n",
    "plt.show()"
   ]
  },
  {
   "cell_type": "code",
   "execution_count": 12,
   "id": "7c0b16dc",
   "metadata": {},
   "outputs": [
    {
     "data": {
      "image/png": "[encoded data removed]",
      "text/plain": [
       "<Figure size 432x288 with 1 Axes>"
      ]
     },
     "metadata": {
      "needs_background": "light"
     },
     "output_type": "display_data"
    }
   ],
   "source": [
    "# distribution of education\n",
    "\n",
    "plt.figure()\n",
    "sns.countplot(x=data['education'])\n",
    "plt.title('Education Level of Employees')\n",
    "plt.show()"
   ]
  },
  {
   "cell_type": "markdown",
   "id": "2cab8a5b",
   "metadata": {},
   "source": [
    "Most of the employees have a Bachelor's degree and very few employees are having below Secondary education"
   ]
  },
  {
   "cell_type": "code",
   "execution_count": 13,
   "id": "60599bd4",
   "metadata": {},
   "outputs": [
    {
     "data": {
      "image/png": "[encoded data removed]",
      "text/plain": [
       "<Figure size 432x432 with 1 Axes>"
      ]
     },
     "metadata": {},
     "output_type": "display_data"
    }
   ],
   "source": [
    "# Recruitement Channel\n",
    "plt.figure(figsize=(6,6))\n",
    "plt.pie(data['recruitment_channel'].value_counts(), labels=data['recruitment_channel'].value_counts().index, autopct='%1.1f%%')\n",
    "plt.title('Channel of recruitment for employee')\n",
    "plt.show()"
   ]
  },
  {
   "cell_type": "code",
   "execution_count": 14,
   "id": "b2fa495a",
   "metadata": {},
   "outputs": [
    {
     "data": {
      "image/png": "[encoded data removed]",
      "text/plain": [
       "<Figure size 576x288 with 1 Axes>"
      ]
     },
     "metadata": {
      "needs_background": "light"
     },
     "output_type": "display_data"
    }
   ],
   "source": [
    "# previous year ratings\n",
    "\n",
    "plt.figure(figsize=(8,4))\n",
    "sns.countplot(x=data['previous_year_rating'])\n",
    "plt.title('Employee Rating for the previous year', fontsize=20)\n",
    "plt.show()"
   ]
  },
  {
   "cell_type": "code",
   "execution_count": 15,
   "id": "a0483471",
   "metadata": {},
   "outputs": [
    {
     "data": {
      "image/png": "[encoded data removed]",
      "text/plain": [
       "<Figure size 864x288 with 1 Axes>"
      ]
     },
     "metadata": {
      "needs_background": "light"
     },
     "output_type": "display_data"
    }
   ],
   "source": [
    "# Distribution of Trainings undertaken by Employees\n",
    "\n",
    "plt.figure(figsize=(12,4))\n",
    "sns.countplot(x=data['no_of_trainings'], palette = 'spring')\n",
    "plt.title('Distribution of Trainings undertaken by the Employees')\n",
    "plt.show()"
   ]
  },
  {
   "cell_type": "markdown",
   "id": "453a41d1",
   "metadata": {},
   "source": [
    "Most of the Employees had undergone only one traning session."
   ]
  },
  {
   "cell_type": "code",
   "execution_count": 16,
   "id": "0843fe45",
   "metadata": {},
   "outputs": [
    {
     "data": {
      "image/png": "[encoded data removed]",
      "text/plain": [
       "<Figure size 432x288 with 1 Axes>"
      ]
     },
     "metadata": {},
     "output_type": "display_data"
    }
   ],
   "source": [
    "# Awards won by Employees\n",
    "\n",
    "plt.pie(data['awards_won'].value_counts(), labels=[0,1])\n",
    "plt.title('Award won by Employees')\n",
    "plt.show()"
   ]
  },
  {
   "cell_type": "code",
   "execution_count": 17,
   "id": "3986301d",
   "metadata": {},
   "outputs": [
    {
     "data": {
      "image/png": "[encoded data removed]",
      "text/plain": [
       "<Figure size 432x288 with 1 Axes>"
      ]
     },
     "metadata": {
      "needs_background": "light"
     },
     "output_type": "display_data"
    }
   ],
   "source": [
    "#Distribution of Average score of Employees in current training evaluations\n",
    "\n",
    "sns.histplot(x=data['avg_training_score'])\n",
    "plt.title('Average score of Employees in current training evaluations')\n",
    "plt.show()"
   ]
  },
  {
   "cell_type": "code",
   "execution_count": 18,
   "id": "25269ad4",
   "metadata": {},
   "outputs": [
    {
     "data": {
      "image/png": "[encoded data removed]",
      "text/plain": [
       "<Figure size 576x576 with 1 Axes>"
      ]
     },
     "metadata": {},
     "output_type": "display_data"
    }
   ],
   "source": [
    "# Gender Distribution of Employees\n",
    "\n",
    "gender_count = data['gender'].value_counts()\n",
    "labels=data['gender'].value_counts().index\n",
    "plt.figure(figsize=(8,8))\n",
    "plt.pie(gender_count, labels=labels, autopct='%1.1f%%')\n",
    "plt.title('Gender distribution of employees')\n",
    "plt.show()"
   ]
  },
  {
   "cell_type": "markdown",
   "id": "caed172c",
   "metadata": {},
   "source": [
    "Most of the company employees are male"
   ]
  },
  {
   "cell_type": "code",
   "execution_count": 19,
   "id": "c7258390",
   "metadata": {},
   "outputs": [
    {
     "data": {
      "image/png": "[encoded data removed]",
      "text/plain": [
       "<Figure size 864x432 with 1 Axes>"
      ]
     },
     "metadata": {
      "needs_background": "light"
     },
     "output_type": "display_data"
    }
   ],
   "source": [
    "# Distribution of length of service\n",
    "\n",
    "plt.figure(figsize=(12,6))\n",
    "sns.histplot(x=data['length_of_service'])\n",
    "plt.title('Distribution of length of service')\n",
    "plt.show()"
   ]
  },
  {
   "cell_type": "markdown",
   "id": "211e1258",
   "metadata": {},
   "source": [
    "Length of service is from 1 to 10 years. After 10 years, there are few employees. Most of the employees stay in service for approximately three years"
   ]
  },
  {
   "cell_type": "markdown",
   "id": "0c3e54f7",
   "metadata": {},
   "source": [
    "## Bivariate"
   ]
  },
  {
   "cell_type": "code",
   "execution_count": 20,
   "id": "42bd828a",
   "metadata": {},
   "outputs": [
    {
     "data": {
      "text/plain": [
       "Index(['employee_id', 'department', 'region', 'education', 'gender',\n",
       "       'recruitment_channel', 'no_of_trainings', 'age', 'previous_year_rating',\n",
       "       'length_of_service', 'awards_won', 'avg_training_score', 'is_promoted'],\n",
       "      dtype='object')"
      ]
     },
     "execution_count": 20,
     "metadata": {},
     "output_type": "execute_result"
    }
   ],
   "source": [
    "data.columns"
   ]
  },
  {
   "cell_type": "code",
   "execution_count": 21,
   "id": "8f996255",
   "metadata": {},
   "outputs": [
    {
     "data": {
      "image/png": "[encoded data removed]",
      "text/plain": [
       "<Figure size 720x360 with 1 Axes>"
      ]
     },
     "metadata": {
      "needs_background": "light"
     },
     "output_type": "display_data"
    }
   ],
   "source": [
    "# Effect of different departments on promotion\n",
    "\n",
    "ct = pd.crosstab(data['department'], data['is_promoted'], normalize='index')\n",
    "ct.plot(kind='bar', stacked=True, figsize=(10,5))\n",
    "plt.title('Effect of department on Promotion')\n",
    "plt.legend(title='is_promoted', loc='upper left', bbox_to_anchor=(1, 0.5))\n",
    "plt.show()"
   ]
  },
  {
   "cell_type": "code",
   "execution_count": 22,
   "id": "68b15e46",
   "metadata": {},
   "outputs": [
    {
     "data": {
      "image/png": "[encoded data removed]",
      "text/plain": [
       "<Figure size 432x288 with 1 Axes>"
      ]
     },
     "metadata": {
      "needs_background": "light"
     },
     "output_type": "display_data"
    }
   ],
   "source": [
    "#Effect of gender on promotion\n",
    "\n",
    "sns.countplot(x='gender', hue='is_promoted', data=data, palette='Set2')\n",
    "plt.title('Effect of gender on promotion')\n",
    "plt.show()"
   ]
  },
  {
   "cell_type": "markdown",
   "id": "e3faa8af",
   "metadata": {},
   "source": [
    "Though female employees are minority, they are competing with the male employees when it comes to promotion"
   ]
  },
  {
   "cell_type": "code",
   "execution_count": 23,
   "id": "839bc0ab",
   "metadata": {},
   "outputs": [
    {
     "data": {
      "image/png": "[encoded data removed]",
      "text/plain": [
       "<Figure size 1080x432 with 1 Axes>"
      ]
     },
     "metadata": {
      "needs_background": "light"
     },
     "output_type": "display_data"
    }
   ],
   "source": [
    "# Effect of service_length on promotion\n",
    "\n",
    "plt.figure(figsize=(15,6))\n",
    "sns.histplot(x='length_of_service', hue='is_promoted', data=data, bins=30, kde=True, common_norm=True)\n",
    "plt.title('Effect of service_length on promotion')\n",
    "plt.show()"
   ]
  },
  {
   "cell_type": "code",
   "execution_count": 24,
   "id": "feb5fc5c",
   "metadata": {},
   "outputs": [
    {
     "data": {
      "image/png": "[encoded data removed]",
      "text/plain": [
       "<Figure size 720x360 with 1 Axes>"
      ]
     },
     "metadata": {
      "needs_background": "light"
     },
     "output_type": "display_data"
    }
   ],
   "source": [
    "ct = pd.crosstab(data['length_of_service'], data['is_promoted'], normalize='index')\n",
    "ct.plot(kind='bar', stacked=True, figsize=(10,5), color=['LightGreen', 'red'])\n",
    "plt.title('Effect of length_of_service on Promotion')\n",
    "plt.legend(title='is_promoted', loc='upper left', bbox_to_anchor=(1, 0.5))\n",
    "plt.show()"
   ]
  },
  {
   "cell_type": "markdown",
   "id": "d842fead",
   "metadata": {},
   "source": [
    "From years 1 to 23, employees are getting promoted "
   ]
  },
  {
   "cell_type": "code",
   "execution_count": 25,
   "id": "7c8cf6b3",
   "metadata": {},
   "outputs": [
    {
     "data": {
      "image/png": "[encoded data removed]",
      "text/plain": [
       "<Figure size 720x360 with 1 Axes>"
      ]
     },
     "metadata": {
      "needs_background": "light"
     },
     "output_type": "display_data"
    }
   ],
   "source": [
    "# Effect of Education on Promotion\n",
    "\n",
    "ct = pd.crosstab(data['education'], data['is_promoted'], normalize='index')\n",
    "ct.plot(kind='bar', stacked=True, figsize=(10,5))\n",
    "plt.title('Effect of education on Promotion')\n",
    "plt.legend(title='is_promoted', loc='upper left', bbox_to_anchor=(1, 0.5))\n",
    "plt.show()"
   ]
  },
  {
   "cell_type": "markdown",
   "id": "e9a061ec",
   "metadata": {},
   "source": [
    "Educational Qualification of employees do not have much effect on promotion"
   ]
  },
  {
   "cell_type": "code",
   "execution_count": 26,
   "id": "4db4968b",
   "metadata": {},
   "outputs": [
    {
     "data": {
      "image/png": "[encoded data removed]",
      "text/plain": [
       "<Figure size 1080x432 with 1 Axes>"
      ]
     },
     "metadata": {
      "needs_background": "light"
     },
     "output_type": "display_data"
    }
   ],
   "source": [
    "# Effect of age on promotion\n",
    "\n",
    "plt.figure(figsize=(15,6))\n",
    "sns.histplot(x='age', hue='is_promoted', data=data, bins=30, kde=True, palette='Set2')\n",
    "plt.title('Effect of age on promotion')\n",
    "plt.show()"
   ]
  },
  {
   "cell_type": "code",
   "execution_count": 27,
   "id": "bd0b8e87",
   "metadata": {},
   "outputs": [
    {
     "data": {
      "image/png": "[encoded data removed]",
      "text/plain": [
       "<Figure size 1080x432 with 1 Axes>"
      ]
     },
     "metadata": {
      "needs_background": "light"
     },
     "output_type": "display_data"
    }
   ],
   "source": [
    "#Effect of Average_training_score on Promotion\n",
    "\n",
    "plt.figure(figsize=(15,6))\n",
    "sns.kdeplot(x='avg_training_score', hue='is_promoted', data=data, shade=True)\n",
    "plt.title('Effect of Average_training_score on Promotion')\n",
    "plt.show()"
   ]
  },
  {
   "cell_type": "code",
   "execution_count": 28,
   "id": "2f23d512",
   "metadata": {},
   "outputs": [
    {
     "data": {
      "image/png": "[encoded data removed]",
      "text/plain": [
       "<Figure size 1080x360 with 1 Axes>"
      ]
     },
     "metadata": {
      "needs_background": "light"
     },
     "output_type": "display_data"
    }
   ],
   "source": [
    "ct = pd.crosstab(data['avg_training_score'], data['is_promoted'], normalize='index')\n",
    "ct.plot(kind='bar', stacked=True, figsize=(15,5),color=['LightGreen','LightBlue'])\n",
    "plt.title('Effect of avg_training_score on Promotion')\n",
    "plt.legend(title='is_promoted', loc='upper left', bbox_to_anchor=(1, 0.5))\n",
    "plt.show()"
   ]
  },
  {
   "cell_type": "markdown",
   "id": "473170f0",
   "metadata": {},
   "source": [
    "If averge training score is high then chances of getting promoted is high."
   ]
  },
  {
   "cell_type": "code",
   "execution_count": 29,
   "id": "55c43581",
   "metadata": {},
   "outputs": [
    {
     "data": {
      "image/png": "[encoded data removed]",
      "text/plain": [
       "<Figure size 720x360 with 1 Axes>"
      ]
     },
     "metadata": {
      "needs_background": "light"
     },
     "output_type": "display_data"
    }
   ],
   "source": [
    "# Effect of Previous Year Rating on Promotion\n",
    "\n",
    "ct = pd.crosstab(data['previous_year_rating'], data['is_promoted'], normalize='index')\n",
    "ct.plot(kind='bar', stacked=True, figsize=(10,5))\n",
    "plt.title('Effect of previous_year_rating on Promotion')\n",
    "plt.legend(title='is_promoted', loc='upper left', bbox_to_anchor=(1, 0.5))\n",
    "plt.show()"
   ]
  },
  {
   "cell_type": "markdown",
   "id": "148a9ada",
   "metadata": {},
   "source": [
    "Greater the previous year rating, greater the chance of Promotion"
   ]
  },
  {
   "cell_type": "code",
   "execution_count": 30,
   "id": "ade8d05d",
   "metadata": {},
   "outputs": [
    {
     "data": {
      "image/png": "[encoded data removed]",
      "text/plain": [
       "<Figure size 720x360 with 1 Axes>"
      ]
     },
     "metadata": {
      "needs_background": "light"
     },
     "output_type": "display_data"
    }
   ],
   "source": [
    "#'Effect of awards_won on Promotion'\n",
    "\n",
    "ct = pd.crosstab(data['awards_won'], data['is_promoted'], normalize='index')\n",
    "ct.plot(kind='bar', stacked=True, figsize=(10,5), color=['green','red'])\n",
    "plt.title('Effect of awards_won on Promotion')\n",
    "plt.legend(title='is_promoted', loc='upper left', bbox_to_anchor=(1, 0.5))\n",
    "plt.show()"
   ]
  },
  {
   "cell_type": "markdown",
   "id": "7bf3ace0",
   "metadata": {},
   "source": [
    "Winning awards increases the chance of promotion."
   ]
  },
  {
   "cell_type": "code",
   "execution_count": 31,
   "id": "49fc4ba8",
   "metadata": {},
   "outputs": [
    {
     "data": {
      "image/png": "[encoded data removed]",
      "text/plain": [
       "<Figure size 720x360 with 1 Axes>"
      ]
     },
     "metadata": {
      "needs_background": "light"
     },
     "output_type": "display_data"
    }
   ],
   "source": [
    "# Effect of number_of_trainings on promotion\n",
    "\n",
    "ct = pd.crosstab(data['no_of_trainings'], data['is_promoted'], normalize='index')\n",
    "ct.plot(kind='bar', stacked=True, figsize=(10,5), color=['LightBlue','red'])\n",
    "plt.title('Effect of no_of_trainings on Promotion')\n",
    "plt.legend(title='is_promoted', loc='upper left', bbox_to_anchor=(1, 0.5))\n",
    "plt.show()"
   ]
  },
  {
   "cell_type": "markdown",
   "id": "db3bcbce",
   "metadata": {},
   "source": [
    "Undertaking 1 to 6 number of training, employees are getting promoted."
   ]
  },
  {
   "cell_type": "markdown",
   "id": "2ff72f22",
   "metadata": {},
   "source": [
    "## Multivariate Analysis"
   ]
  },
  {
   "cell_type": "code",
   "execution_count": 32,
   "id": "00a3bfcf",
   "metadata": {},
   "outputs": [
    {
     "data": {
      "image/png": "[encoded data removed]",
      "text/plain": [
       "<Figure size 1008x576 with 2 Axes>"
      ]
     },
     "metadata": {
      "needs_background": "light"
     },
     "output_type": "display_data"
    }
   ],
   "source": [
    "# Correlation between numeric features\n",
    "\n",
    "plt.subplots(figsize=(14,8))\n",
    "sns.heatmap(data=data.drop('employee_id', axis=1).corr(), vmin=-0.09, vmax=0.7, annot=True, linewidth=0.2, cmap='coolwarm')\n",
    "plt.show()"
   ]
  },
  {
   "cell_type": "markdown",
   "id": "2ccbc525",
   "metadata": {},
   "source": [
    "'awards won', 'avg_training_score', 'previous year ratings' are having some positive correlation with promotion."
   ]
  },
  {
   "cell_type": "markdown",
   "id": "5513d028",
   "metadata": {},
   "source": [
    "# Preprocessing"
   ]
  },
  {
   "cell_type": "code",
   "execution_count": 33,
   "id": "cf220204",
   "metadata": {},
   "outputs": [],
   "source": [
    "# droping 'employee id' as its not an useful column\n",
    "\n",
    "data.drop('employee_id', axis=1, inplace=True)"
   ]
  },
  {
   "cell_type": "markdown",
   "id": "4976e38f",
   "metadata": {},
   "source": [
    "### a) null values"
   ]
  },
  {
   "cell_type": "code",
   "execution_count": 34,
   "id": "417e8d08",
   "metadata": {},
   "outputs": [
    {
     "data": {
      "text/plain": [
       "department                 0\n",
       "region                     0\n",
       "education               2409\n",
       "gender                     0\n",
       "recruitment_channel        0\n",
       "no_of_trainings            0\n",
       "age                        0\n",
       "previous_year_rating    4124\n",
       "length_of_service          0\n",
       "awards_won                 0\n",
       "avg_training_score      2560\n",
       "is_promoted                0\n",
       "dtype: int64"
      ]
     },
     "execution_count": 34,
     "metadata": {},
     "output_type": "execute_result"
    }
   ],
   "source": [
    "# checking for null values\n",
    "\n",
    "data.isna().sum()"
   ]
  },
  {
   "cell_type": "code",
   "execution_count": 35,
   "id": "906046de",
   "metadata": {},
   "outputs": [
    {
     "data": {
      "text/plain": [
       "department              0.000000\n",
       "region                  0.000000\n",
       "education               4.395344\n",
       "gender                  0.000000\n",
       "recruitment_channel     0.000000\n",
       "no_of_trainings         0.000000\n",
       "age                     0.000000\n",
       "previous_year_rating    7.524449\n",
       "length_of_service       0.000000\n",
       "awards_won              0.000000\n",
       "avg_training_score      4.670851\n",
       "is_promoted             0.000000\n",
       "dtype: float64"
      ]
     },
     "execution_count": 35,
     "metadata": {},
     "output_type": "execute_result"
    }
   ],
   "source": [
    "# percentage of null values \n",
    "\n",
    "percent_missing = data.isnull().sum() * 100 / len(data)\n",
    "percent_missing"
   ]
  },
  {
   "cell_type": "code",
   "execution_count": 36,
   "id": "08189fc5",
   "metadata": {},
   "outputs": [
    {
     "data": {
      "text/plain": [
       "department               object\n",
       "region                   object\n",
       "education                object\n",
       "gender                   object\n",
       "recruitment_channel      object\n",
       "no_of_trainings           int64\n",
       "age                       int64\n",
       "previous_year_rating    float64\n",
       "length_of_service         int64\n",
       "awards_won                int64\n",
       "avg_training_score      float64\n",
       "is_promoted               int64\n",
       "dtype: object"
      ]
     },
     "execution_count": 36,
     "metadata": {},
     "output_type": "execute_result"
    }
   ],
   "source": [
    "data.dtypes"
   ]
  },
  {
   "cell_type": "code",
   "execution_count": 37,
   "id": "341963f6",
   "metadata": {},
   "outputs": [],
   "source": [
    "# Handling Null Values\n",
    "\n",
    "# Filling null values in 'edcation' and 'avarage_training_score' with most frequent value\n",
    "data['education']=data['education'].fillna(data['education'].mode()[0])\n",
    "data['avg_training_score']=data['avg_training_score'].fillna(data['avg_training_score'].mode()[0])"
   ]
  },
  {
   "cell_type": "code",
   "execution_count": 38,
   "id": "958dc2e4",
   "metadata": {},
   "outputs": [
    {
     "data": {
      "text/html": [
       "<div>\n",
       "<style scoped>\n",
       "    .dataframe tbody tr th:only-of-type {\n",
       "        vertical-align: middle;\n",
       "    }\n",
       "\n",
       "    .dataframe tbody tr th {\n",
       "        vertical-align: top;\n",
       "    }\n",
       "\n",
       "    .dataframe thead th {\n",
       "        text-align: right;\n",
       "    }\n",
       "</style>\n",
       "<table border=\"1\" class=\"dataframe\">\n",
       "  <thead>\n",
       "    <tr style=\"text-align: right;\">\n",
       "      <th></th>\n",
       "      <th>department</th>\n",
       "      <th>region</th>\n",
       "      <th>education</th>\n",
       "      <th>gender</th>\n",
       "      <th>recruitment_channel</th>\n",
       "      <th>no_of_trainings</th>\n",
       "      <th>age</th>\n",
       "      <th>previous_year_rating</th>\n",
       "      <th>length_of_service</th>\n",
       "      <th>awards_won</th>\n",
       "      <th>avg_training_score</th>\n",
       "      <th>is_promoted</th>\n",
       "    </tr>\n",
       "  </thead>\n",
       "  <tbody>\n",
       "    <tr>\n",
       "      <th>10</th>\n",
       "      <td>Technology</td>\n",
       "      <td>region_23</td>\n",
       "      <td>Bachelor's</td>\n",
       "      <td>m</td>\n",
       "      <td>sourcing</td>\n",
       "      <td>1</td>\n",
       "      <td>30</td>\n",
       "      <td>NaN</td>\n",
       "      <td>1</td>\n",
       "      <td>0</td>\n",
       "      <td>77.0</td>\n",
       "      <td>0</td>\n",
       "    </tr>\n",
       "    <tr>\n",
       "      <th>23</th>\n",
       "      <td>Procurement</td>\n",
       "      <td>region_5</td>\n",
       "      <td>Bachelor's</td>\n",
       "      <td>m</td>\n",
       "      <td>other</td>\n",
       "      <td>1</td>\n",
       "      <td>27</td>\n",
       "      <td>NaN</td>\n",
       "      <td>1</td>\n",
       "      <td>0</td>\n",
       "      <td>70.0</td>\n",
       "      <td>0</td>\n",
       "    </tr>\n",
       "    <tr>\n",
       "      <th>29</th>\n",
       "      <td>Sales &amp; Marketing</td>\n",
       "      <td>region_4</td>\n",
       "      <td>Bachelor's</td>\n",
       "      <td>m</td>\n",
       "      <td>sourcing</td>\n",
       "      <td>1</td>\n",
       "      <td>26</td>\n",
       "      <td>NaN</td>\n",
       "      <td>1</td>\n",
       "      <td>0</td>\n",
       "      <td>44.0</td>\n",
       "      <td>0</td>\n",
       "    </tr>\n",
       "    <tr>\n",
       "      <th>56</th>\n",
       "      <td>Sales &amp; Marketing</td>\n",
       "      <td>region_31</td>\n",
       "      <td>Bachelor's</td>\n",
       "      <td>f</td>\n",
       "      <td>other</td>\n",
       "      <td>1</td>\n",
       "      <td>29</td>\n",
       "      <td>NaN</td>\n",
       "      <td>1</td>\n",
       "      <td>0</td>\n",
       "      <td>49.0</td>\n",
       "      <td>0</td>\n",
       "    </tr>\n",
       "    <tr>\n",
       "      <th>58</th>\n",
       "      <td>Sales &amp; Marketing</td>\n",
       "      <td>region_16</td>\n",
       "      <td>Bachelor's</td>\n",
       "      <td>m</td>\n",
       "      <td>other</td>\n",
       "      <td>2</td>\n",
       "      <td>27</td>\n",
       "      <td>NaN</td>\n",
       "      <td>1</td>\n",
       "      <td>0</td>\n",
       "      <td>47.0</td>\n",
       "      <td>0</td>\n",
       "    </tr>\n",
       "    <tr>\n",
       "      <th>...</th>\n",
       "      <td>...</td>\n",
       "      <td>...</td>\n",
       "      <td>...</td>\n",
       "      <td>...</td>\n",
       "      <td>...</td>\n",
       "      <td>...</td>\n",
       "      <td>...</td>\n",
       "      <td>...</td>\n",
       "      <td>...</td>\n",
       "      <td>...</td>\n",
       "      <td>...</td>\n",
       "      <td>...</td>\n",
       "    </tr>\n",
       "    <tr>\n",
       "      <th>54703</th>\n",
       "      <td>R&amp;D</td>\n",
       "      <td>region_31</td>\n",
       "      <td>Bachelor's</td>\n",
       "      <td>m</td>\n",
       "      <td>sourcing</td>\n",
       "      <td>1</td>\n",
       "      <td>30</td>\n",
       "      <td>NaN</td>\n",
       "      <td>1</td>\n",
       "      <td>0</td>\n",
       "      <td>88.0</td>\n",
       "      <td>0</td>\n",
       "    </tr>\n",
       "    <tr>\n",
       "      <th>54734</th>\n",
       "      <td>Operations</td>\n",
       "      <td>region_15</td>\n",
       "      <td>Bachelor's</td>\n",
       "      <td>m</td>\n",
       "      <td>sourcing</td>\n",
       "      <td>1</td>\n",
       "      <td>31</td>\n",
       "      <td>NaN</td>\n",
       "      <td>1</td>\n",
       "      <td>0</td>\n",
       "      <td>56.0</td>\n",
       "      <td>1</td>\n",
       "    </tr>\n",
       "    <tr>\n",
       "      <th>54746</th>\n",
       "      <td>Finance</td>\n",
       "      <td>region_6</td>\n",
       "      <td>Bachelor's</td>\n",
       "      <td>m</td>\n",
       "      <td>other</td>\n",
       "      <td>1</td>\n",
       "      <td>28</td>\n",
       "      <td>NaN</td>\n",
       "      <td>1</td>\n",
       "      <td>0</td>\n",
       "      <td>50.0</td>\n",
       "      <td>0</td>\n",
       "    </tr>\n",
       "    <tr>\n",
       "      <th>54773</th>\n",
       "      <td>Finance</td>\n",
       "      <td>region_2</td>\n",
       "      <td>Bachelor's</td>\n",
       "      <td>m</td>\n",
       "      <td>other</td>\n",
       "      <td>1</td>\n",
       "      <td>23</td>\n",
       "      <td>NaN</td>\n",
       "      <td>1</td>\n",
       "      <td>0</td>\n",
       "      <td>50.0</td>\n",
       "      <td>0</td>\n",
       "    </tr>\n",
       "    <tr>\n",
       "      <th>54801</th>\n",
       "      <td>Technology</td>\n",
       "      <td>region_26</td>\n",
       "      <td>Bachelor's</td>\n",
       "      <td>f</td>\n",
       "      <td>sourcing</td>\n",
       "      <td>1</td>\n",
       "      <td>31</td>\n",
       "      <td>NaN</td>\n",
       "      <td>1</td>\n",
       "      <td>0</td>\n",
       "      <td>78.0</td>\n",
       "      <td>0</td>\n",
       "    </tr>\n",
       "  </tbody>\n",
       "</table>\n",
       "<p>4124 rows × 12 columns</p>\n",
       "</div>"
      ],
      "text/plain": [
       "              department     region   education gender recruitment_channel  \\\n",
       "10            Technology  region_23  Bachelor's      m            sourcing   \n",
       "23           Procurement   region_5  Bachelor's      m               other   \n",
       "29     Sales & Marketing   region_4  Bachelor's      m            sourcing   \n",
       "56     Sales & Marketing  region_31  Bachelor's      f               other   \n",
       "58     Sales & Marketing  region_16  Bachelor's      m               other   \n",
       "...                  ...        ...         ...    ...                 ...   \n",
       "54703                R&D  region_31  Bachelor's      m            sourcing   \n",
       "54734         Operations  region_15  Bachelor's      m            sourcing   \n",
       "54746            Finance   region_6  Bachelor's      m               other   \n",
       "54773            Finance   region_2  Bachelor's      m               other   \n",
       "54801         Technology  region_26  Bachelor's      f            sourcing   \n",
       "\n",
       "       no_of_trainings  age  previous_year_rating  length_of_service  \\\n",
       "10                   1   30                   NaN                  1   \n",
       "23                   1   27                   NaN                  1   \n",
       "29                   1   26                   NaN                  1   \n",
       "56                   1   29                   NaN                  1   \n",
       "58                   2   27                   NaN                  1   \n",
       "...                ...  ...                   ...                ...   \n",
       "54703                1   30                   NaN                  1   \n",
       "54734                1   31                   NaN                  1   \n",
       "54746                1   28                   NaN                  1   \n",
       "54773                1   23                   NaN                  1   \n",
       "54801                1   31                   NaN                  1   \n",
       "\n",
       "       awards_won  avg_training_score  is_promoted  \n",
       "10              0                77.0            0  \n",
       "23              0                70.0            0  \n",
       "29              0                44.0            0  \n",
       "56              0                49.0            0  \n",
       "58              0                47.0            0  \n",
       "...           ...                 ...          ...  \n",
       "54703           0                88.0            0  \n",
       "54734           0                56.0            1  \n",
       "54746           0                50.0            0  \n",
       "54773           0                50.0            0  \n",
       "54801           0                78.0            0  \n",
       "\n",
       "[4124 rows x 12 columns]"
      ]
     },
     "execution_count": 38,
     "metadata": {},
     "output_type": "execute_result"
    }
   ],
   "source": [
    "# checking data of previous year rating\n",
    "data[data['previous_year_rating'].isnull()]"
   ]
  },
  {
   "cell_type": "code",
   "execution_count": 39,
   "id": "5e24154d",
   "metadata": {},
   "outputs": [
    {
     "data": {
      "text/plain": [
       "length_of_service\n",
       "1    4124\n",
       "dtype: int64"
      ]
     },
     "execution_count": 39,
     "metadata": {},
     "output_type": "execute_result"
    }
   ],
   "source": [
    "data[data['previous_year_rating'].isnull()].value_counts(data['length_of_service'])"
   ]
  },
  {
   "cell_type": "markdown",
   "id": "38bf339f",
   "metadata": {},
   "source": [
    "Since all the employees with null values in \"previous year rating\" have only one year of service at the company, they cant have any rating. Therefore filling those null values with 0"
   ]
  },
  {
   "cell_type": "code",
   "execution_count": 40,
   "id": "31e5dd23",
   "metadata": {},
   "outputs": [],
   "source": [
    "# Filling null values in 'previous_year_rating' with value 0\n",
    "\n",
    "data['previous_year_rating']=data['previous_year_rating'].fillna(value=0)"
   ]
  },
  {
   "cell_type": "code",
   "execution_count": 41,
   "id": "c1b5746e",
   "metadata": {},
   "outputs": [
    {
     "data": {
      "text/plain": [
       "0"
      ]
     },
     "execution_count": 41,
     "metadata": {},
     "output_type": "execute_result"
    }
   ],
   "source": [
    "# checking for null values:\n",
    "data.isna().sum().sum()"
   ]
  },
  {
   "cell_type": "markdown",
   "id": "e091ed2f",
   "metadata": {},
   "source": [
    "No null values present in our features now"
   ]
  },
  {
   "cell_type": "markdown",
   "id": "372a26cf",
   "metadata": {},
   "source": [
    "### b) Outliers"
   ]
  },
  {
   "cell_type": "code",
   "execution_count": 42,
   "id": "a33f5b00",
   "metadata": {},
   "outputs": [
    {
     "data": {
      "text/plain": [
       "Index(['department', 'region', 'education', 'gender', 'recruitment_channel',\n",
       "       'no_of_trainings', 'age', 'previous_year_rating', 'length_of_service',\n",
       "       'awards_won', 'avg_training_score', 'is_promoted'],\n",
       "      dtype='object')"
      ]
     },
     "execution_count": 42,
     "metadata": {},
     "output_type": "execute_result"
    }
   ],
   "source": [
    "data.columns"
   ]
  },
  {
   "cell_type": "code",
   "execution_count": 43,
   "id": "35afe4d9",
   "metadata": {},
   "outputs": [
    {
     "data": {
      "image/png": "[encoded data removed]",
      "text/plain": [
       "<Figure size 576x432 with 2 Axes>"
      ]
     },
     "metadata": {
      "needs_background": "light"
     },
     "output_type": "display_data"
    }
   ],
   "source": [
    "plt.figure(figsize=(8,6))\n",
    "\n",
    "plt.subplot(2,1,1)\n",
    "sns.boxplot(x=data['age'], color='Orange')\n",
    "plt.title('Boxplot of age', color='Red')\n",
    "\n",
    "plt.subplot(2,1,2)\n",
    "sns.boxplot(x=data['length_of_service'])\n",
    "plt.title('Boxplot of length_of_service', color='Red')\n",
    "\n",
    "plt.tight_layout()\n",
    "plt.show()"
   ]
  },
  {
   "cell_type": "code",
   "execution_count": 44,
   "id": "3f0c7b49",
   "metadata": {},
   "outputs": [
    {
     "name": "stdout",
     "output_type": "stream",
     "text": [
      " Q1:  3.0 \n",
      " Q2:  5.0 \n",
      " Q3:  7.0\n",
      "Upper limit:  13.0\n",
      "Lower limit:  -3.0\n",
      "Number of outliers in length_of_service column:  3489\n"
     ]
    }
   ],
   "source": [
    "# determining number of outliers in lenth_of_service column\n",
    "\n",
    "Q1=np.percentile(data['length_of_service'], 25, interpolation='midpoint')\n",
    "Q2=np.percentile(data['length_of_service'], 50, interpolation='midpoint')\n",
    "Q3=np.percentile(data['length_of_service'], 75, interpolation='midpoint')\n",
    "IQR = Q3-Q1\n",
    "upper_limit=round(Q3+(1.5 * IQR), 4)\n",
    "lower_limit=round(Q1-(1.5 * IQR), 4)\n",
    "outlier=[]\n",
    "for x in data['length_of_service']:\n",
    "    if (x<lower_limit) or (x>upper_limit):\n",
    "        outlier.append(x)\n",
    "print(' Q1: ',Q1,'\\n',\n",
    "      'Q2: ',Q2,'\\n',\n",
    "      'Q3: ',Q3)\n",
    "print('Upper limit: ',upper_limit)\n",
    "print('Lower limit: ',lower_limit)\n",
    "print('Number of outliers in length_of_service column: ',len(outlier))"
   ]
  },
  {
   "cell_type": "code",
   "execution_count": 45,
   "id": "3b296a29",
   "metadata": {},
   "outputs": [],
   "source": [
    "# handling outliers\n",
    "\n",
    "data['length_of_service']=np.where(data['length_of_service']>upper_limit,upper_limit,np.where(data['length_of_service']<lower_limit,lower_limit,data['length_of_service']))"
   ]
  },
  {
   "cell_type": "code",
   "execution_count": 46,
   "id": "77c86f6f",
   "metadata": {
    "scrolled": false
   },
   "outputs": [
    {
     "data": {
      "image/png": "[encoded data removed]",
      "text/plain": [
       "<Figure size 576x144 with 1 Axes>"
      ]
     },
     "metadata": {
      "needs_background": "light"
     },
     "output_type": "display_data"
    }
   ],
   "source": [
    "# Checking for outliers in length_of_service:\n",
    "\n",
    "plt.figure(figsize=(8,2))\n",
    "sns.boxplot(x=data['length_of_service'])\n",
    "plt.title('Boxplot of length_of_service', color='Red')\n",
    "plt.show()"
   ]
  },
  {
   "cell_type": "markdown",
   "id": "7f6422a7",
   "metadata": {},
   "source": [
    "Outliers in 'length of service' is handled. Spread of outliers in 'age' is low. So we are negleting handling outliers in age column."
   ]
  },
  {
   "cell_type": "markdown",
   "id": "58553951",
   "metadata": {},
   "source": [
    "### c) Feature engineering"
   ]
  },
  {
   "cell_type": "code",
   "execution_count": 47,
   "id": "0f61c11b",
   "metadata": {},
   "outputs": [
    {
     "data": {
      "text/plain": [
       "Index(['department', 'region', 'education', 'gender', 'recruitment_channel',\n",
       "       'no_of_trainings', 'age', 'previous_year_rating', 'length_of_service',\n",
       "       'awards_won', 'avg_training_score', 'is_promoted'],\n",
       "      dtype='object')"
      ]
     },
     "execution_count": 47,
     "metadata": {},
     "output_type": "execute_result"
    }
   ],
   "source": [
    "data.columns"
   ]
  },
  {
   "cell_type": "code",
   "execution_count": 48,
   "id": "f8a49793",
   "metadata": {},
   "outputs": [],
   "source": [
    "# creating a new column 'total training score'\n",
    "data['total_training_score'] = data['avg_training_score'] * data['no_of_trainings']"
   ]
  },
  {
   "cell_type": "code",
   "execution_count": 49,
   "id": "8d12f442",
   "metadata": {},
   "outputs": [
    {
     "data": {
      "text/plain": [
       "0         49.0\n",
       "1         60.0\n",
       "2         50.0\n",
       "3        100.0\n",
       "4         73.0\n",
       "         ...  \n",
       "54803     78.0\n",
       "54804     56.0\n",
       "54805     79.0\n",
       "54806     50.0\n",
       "54807     49.0\n",
       "Name: total_training_score, Length: 54808, dtype: float64"
      ]
     },
     "execution_count": 49,
     "metadata": {},
     "output_type": "execute_result"
    }
   ],
   "source": [
    "data['total_training_score']"
   ]
  },
  {
   "cell_type": "code",
   "execution_count": 50,
   "id": "9e3a311a",
   "metadata": {},
   "outputs": [],
   "source": [
    "# changing type of new column to float\n",
    "data['total_training_score'] = data['total_training_score'].astype('float64')"
   ]
  },
  {
   "cell_type": "code",
   "execution_count": 51,
   "id": "f1a88418",
   "metadata": {},
   "outputs": [],
   "source": [
    "# creating new column 'sum metric'\n",
    "data['sum_metric'] = data['total_training_score'] + data['awards_won'] + data['previous_year_rating']"
   ]
  },
  {
   "cell_type": "code",
   "execution_count": 52,
   "id": "c61451e8",
   "metadata": {},
   "outputs": [
    {
     "data": {
      "text/html": [
       "<div>\n",
       "<style scoped>\n",
       "    .dataframe tbody tr th:only-of-type {\n",
       "        vertical-align: middle;\n",
       "    }\n",
       "\n",
       "    .dataframe tbody tr th {\n",
       "        vertical-align: top;\n",
       "    }\n",
       "\n",
       "    .dataframe thead th {\n",
       "        text-align: right;\n",
       "    }\n",
       "</style>\n",
       "<table border=\"1\" class=\"dataframe\">\n",
       "  <thead>\n",
       "    <tr style=\"text-align: right;\">\n",
       "      <th></th>\n",
       "      <th>department</th>\n",
       "      <th>region</th>\n",
       "      <th>education</th>\n",
       "      <th>gender</th>\n",
       "      <th>recruitment_channel</th>\n",
       "      <th>no_of_trainings</th>\n",
       "      <th>age</th>\n",
       "      <th>previous_year_rating</th>\n",
       "      <th>length_of_service</th>\n",
       "      <th>awards_won</th>\n",
       "      <th>avg_training_score</th>\n",
       "      <th>is_promoted</th>\n",
       "      <th>total_training_score</th>\n",
       "      <th>sum_metric</th>\n",
       "    </tr>\n",
       "  </thead>\n",
       "  <tbody>\n",
       "    <tr>\n",
       "      <th>0</th>\n",
       "      <td>Sales &amp; Marketing</td>\n",
       "      <td>region_7</td>\n",
       "      <td>Master's &amp; above</td>\n",
       "      <td>f</td>\n",
       "      <td>sourcing</td>\n",
       "      <td>1</td>\n",
       "      <td>35</td>\n",
       "      <td>5.0</td>\n",
       "      <td>8.0</td>\n",
       "      <td>0</td>\n",
       "      <td>49.0</td>\n",
       "      <td>0</td>\n",
       "      <td>49.0</td>\n",
       "      <td>54.0</td>\n",
       "    </tr>\n",
       "    <tr>\n",
       "      <th>1</th>\n",
       "      <td>Operations</td>\n",
       "      <td>region_22</td>\n",
       "      <td>Bachelor's</td>\n",
       "      <td>m</td>\n",
       "      <td>other</td>\n",
       "      <td>1</td>\n",
       "      <td>30</td>\n",
       "      <td>5.0</td>\n",
       "      <td>4.0</td>\n",
       "      <td>0</td>\n",
       "      <td>60.0</td>\n",
       "      <td>0</td>\n",
       "      <td>60.0</td>\n",
       "      <td>65.0</td>\n",
       "    </tr>\n",
       "    <tr>\n",
       "      <th>2</th>\n",
       "      <td>Sales &amp; Marketing</td>\n",
       "      <td>region_19</td>\n",
       "      <td>Bachelor's</td>\n",
       "      <td>m</td>\n",
       "      <td>sourcing</td>\n",
       "      <td>1</td>\n",
       "      <td>34</td>\n",
       "      <td>3.0</td>\n",
       "      <td>7.0</td>\n",
       "      <td>0</td>\n",
       "      <td>50.0</td>\n",
       "      <td>0</td>\n",
       "      <td>50.0</td>\n",
       "      <td>53.0</td>\n",
       "    </tr>\n",
       "    <tr>\n",
       "      <th>3</th>\n",
       "      <td>Sales &amp; Marketing</td>\n",
       "      <td>region_23</td>\n",
       "      <td>Bachelor's</td>\n",
       "      <td>m</td>\n",
       "      <td>other</td>\n",
       "      <td>2</td>\n",
       "      <td>39</td>\n",
       "      <td>1.0</td>\n",
       "      <td>10.0</td>\n",
       "      <td>0</td>\n",
       "      <td>50.0</td>\n",
       "      <td>0</td>\n",
       "      <td>100.0</td>\n",
       "      <td>101.0</td>\n",
       "    </tr>\n",
       "    <tr>\n",
       "      <th>4</th>\n",
       "      <td>Technology</td>\n",
       "      <td>region_26</td>\n",
       "      <td>Bachelor's</td>\n",
       "      <td>m</td>\n",
       "      <td>other</td>\n",
       "      <td>1</td>\n",
       "      <td>45</td>\n",
       "      <td>3.0</td>\n",
       "      <td>2.0</td>\n",
       "      <td>0</td>\n",
       "      <td>73.0</td>\n",
       "      <td>0</td>\n",
       "      <td>73.0</td>\n",
       "      <td>76.0</td>\n",
       "    </tr>\n",
       "  </tbody>\n",
       "</table>\n",
       "</div>"
      ],
      "text/plain": [
       "          department     region         education gender recruitment_channel  \\\n",
       "0  Sales & Marketing   region_7  Master's & above      f            sourcing   \n",
       "1         Operations  region_22        Bachelor's      m               other   \n",
       "2  Sales & Marketing  region_19        Bachelor's      m            sourcing   \n",
       "3  Sales & Marketing  region_23        Bachelor's      m               other   \n",
       "4         Technology  region_26        Bachelor's      m               other   \n",
       "\n",
       "   no_of_trainings  age  previous_year_rating  length_of_service  awards_won  \\\n",
       "0                1   35                   5.0                8.0           0   \n",
       "1                1   30                   5.0                4.0           0   \n",
       "2                1   34                   3.0                7.0           0   \n",
       "3                2   39                   1.0               10.0           0   \n",
       "4                1   45                   3.0                2.0           0   \n",
       "\n",
       "   avg_training_score  is_promoted  total_training_score  sum_metric  \n",
       "0                49.0            0                  49.0        54.0  \n",
       "1                60.0            0                  60.0        65.0  \n",
       "2                50.0            0                  50.0        53.0  \n",
       "3                50.0            0                 100.0       101.0  \n",
       "4                73.0            0                  73.0        76.0  "
      ]
     },
     "execution_count": 52,
     "metadata": {},
     "output_type": "execute_result"
    }
   ],
   "source": [
    "data.head()"
   ]
  },
  {
   "cell_type": "markdown",
   "id": "b6740a59",
   "metadata": {},
   "source": [
    "### d) Encoding"
   ]
  },
  {
   "cell_type": "code",
   "execution_count": 53,
   "id": "d1641b03",
   "metadata": {},
   "outputs": [
    {
     "data": {
      "text/plain": [
       "department               object\n",
       "region                   object\n",
       "education                object\n",
       "gender                   object\n",
       "recruitment_channel      object\n",
       "no_of_trainings           int64\n",
       "age                       int64\n",
       "previous_year_rating    float64\n",
       "length_of_service       float64\n",
       "awards_won                int64\n",
       "avg_training_score      float64\n",
       "is_promoted               int64\n",
       "total_training_score    float64\n",
       "sum_metric              float64\n",
       "dtype: object"
      ]
     },
     "execution_count": 53,
     "metadata": {},
     "output_type": "execute_result"
    }
   ],
   "source": [
    "data.dtypes"
   ]
  },
  {
   "cell_type": "code",
   "execution_count": 54,
   "id": "4a282a19",
   "metadata": {},
   "outputs": [
    {
     "data": {
      "text/plain": [
       "department                9\n",
       "region                   34\n",
       "education                 3\n",
       "gender                    2\n",
       "recruitment_channel       3\n",
       "no_of_trainings          10\n",
       "age                      41\n",
       "previous_year_rating      6\n",
       "length_of_service        13\n",
       "awards_won                2\n",
       "avg_training_score       59\n",
       "is_promoted               2\n",
       "total_training_score    239\n",
       "sum_metric              364\n",
       "dtype: int64"
      ]
     },
     "execution_count": 54,
     "metadata": {},
     "output_type": "execute_result"
    }
   ],
   "source": [
    "data.nunique()"
   ]
  },
  {
   "cell_type": "code",
   "execution_count": 55,
   "id": "d3aadee4",
   "metadata": {},
   "outputs": [],
   "source": [
    "# label encoding of features with more unique values\n",
    "\n",
    "from sklearn import preprocessing\n",
    "le = preprocessing.LabelEncoder()\n",
    "data[['department', 'region']] = data[['department', 'region']].apply(le.fit_transform)"
   ]
  },
  {
   "cell_type": "code",
   "execution_count": 56,
   "id": "14519e11",
   "metadata": {},
   "outputs": [],
   "source": [
    "# one hot encoding of features with less unique values\n",
    "data = pd.get_dummies(data)"
   ]
  },
  {
   "cell_type": "code",
   "execution_count": 57,
   "id": "8ac09bae",
   "metadata": {},
   "outputs": [
    {
     "data": {
      "text/html": [
       "<div>\n",
       "<style scoped>\n",
       "    .dataframe tbody tr th:only-of-type {\n",
       "        vertical-align: middle;\n",
       "    }\n",
       "\n",
       "    .dataframe tbody tr th {\n",
       "        vertical-align: top;\n",
       "    }\n",
       "\n",
       "    .dataframe thead th {\n",
       "        text-align: right;\n",
       "    }\n",
       "</style>\n",
       "<table border=\"1\" class=\"dataframe\">\n",
       "  <thead>\n",
       "    <tr style=\"text-align: right;\">\n",
       "      <th></th>\n",
       "      <th>department</th>\n",
       "      <th>region</th>\n",
       "      <th>no_of_trainings</th>\n",
       "      <th>age</th>\n",
       "      <th>previous_year_rating</th>\n",
       "      <th>length_of_service</th>\n",
       "      <th>awards_won</th>\n",
       "      <th>avg_training_score</th>\n",
       "      <th>is_promoted</th>\n",
       "      <th>total_training_score</th>\n",
       "      <th>sum_metric</th>\n",
       "      <th>education_Bachelor's</th>\n",
       "      <th>education_Below Secondary</th>\n",
       "      <th>education_Master's &amp; above</th>\n",
       "      <th>gender_f</th>\n",
       "      <th>gender_m</th>\n",
       "      <th>recruitment_channel_other</th>\n",
       "      <th>recruitment_channel_referred</th>\n",
       "      <th>recruitment_channel_sourcing</th>\n",
       "    </tr>\n",
       "  </thead>\n",
       "  <tbody>\n",
       "    <tr>\n",
       "      <th>0</th>\n",
       "      <td>7</td>\n",
       "      <td>31</td>\n",
       "      <td>1</td>\n",
       "      <td>35</td>\n",
       "      <td>5.0</td>\n",
       "      <td>8.0</td>\n",
       "      <td>0</td>\n",
       "      <td>49.0</td>\n",
       "      <td>0</td>\n",
       "      <td>49.0</td>\n",
       "      <td>54.0</td>\n",
       "      <td>0</td>\n",
       "      <td>0</td>\n",
       "      <td>1</td>\n",
       "      <td>1</td>\n",
       "      <td>0</td>\n",
       "      <td>0</td>\n",
       "      <td>0</td>\n",
       "      <td>1</td>\n",
       "    </tr>\n",
       "    <tr>\n",
       "      <th>1</th>\n",
       "      <td>4</td>\n",
       "      <td>14</td>\n",
       "      <td>1</td>\n",
       "      <td>30</td>\n",
       "      <td>5.0</td>\n",
       "      <td>4.0</td>\n",
       "      <td>0</td>\n",
       "      <td>60.0</td>\n",
       "      <td>0</td>\n",
       "      <td>60.0</td>\n",
       "      <td>65.0</td>\n",
       "      <td>1</td>\n",
       "      <td>0</td>\n",
       "      <td>0</td>\n",
       "      <td>0</td>\n",
       "      <td>1</td>\n",
       "      <td>1</td>\n",
       "      <td>0</td>\n",
       "      <td>0</td>\n",
       "    </tr>\n",
       "    <tr>\n",
       "      <th>2</th>\n",
       "      <td>7</td>\n",
       "      <td>10</td>\n",
       "      <td>1</td>\n",
       "      <td>34</td>\n",
       "      <td>3.0</td>\n",
       "      <td>7.0</td>\n",
       "      <td>0</td>\n",
       "      <td>50.0</td>\n",
       "      <td>0</td>\n",
       "      <td>50.0</td>\n",
       "      <td>53.0</td>\n",
       "      <td>1</td>\n",
       "      <td>0</td>\n",
       "      <td>0</td>\n",
       "      <td>0</td>\n",
       "      <td>1</td>\n",
       "      <td>0</td>\n",
       "      <td>0</td>\n",
       "      <td>1</td>\n",
       "    </tr>\n",
       "    <tr>\n",
       "      <th>3</th>\n",
       "      <td>7</td>\n",
       "      <td>15</td>\n",
       "      <td>2</td>\n",
       "      <td>39</td>\n",
       "      <td>1.0</td>\n",
       "      <td>10.0</td>\n",
       "      <td>0</td>\n",
       "      <td>50.0</td>\n",
       "      <td>0</td>\n",
       "      <td>100.0</td>\n",
       "      <td>101.0</td>\n",
       "      <td>1</td>\n",
       "      <td>0</td>\n",
       "      <td>0</td>\n",
       "      <td>0</td>\n",
       "      <td>1</td>\n",
       "      <td>1</td>\n",
       "      <td>0</td>\n",
       "      <td>0</td>\n",
       "    </tr>\n",
       "    <tr>\n",
       "      <th>4</th>\n",
       "      <td>8</td>\n",
       "      <td>18</td>\n",
       "      <td>1</td>\n",
       "      <td>45</td>\n",
       "      <td>3.0</td>\n",
       "      <td>2.0</td>\n",
       "      <td>0</td>\n",
       "      <td>73.0</td>\n",
       "      <td>0</td>\n",
       "      <td>73.0</td>\n",
       "      <td>76.0</td>\n",
       "      <td>1</td>\n",
       "      <td>0</td>\n",
       "      <td>0</td>\n",
       "      <td>0</td>\n",
       "      <td>1</td>\n",
       "      <td>1</td>\n",
       "      <td>0</td>\n",
       "      <td>0</td>\n",
       "    </tr>\n",
       "    <tr>\n",
       "      <th>5</th>\n",
       "      <td>0</td>\n",
       "      <td>11</td>\n",
       "      <td>2</td>\n",
       "      <td>31</td>\n",
       "      <td>3.0</td>\n",
       "      <td>7.0</td>\n",
       "      <td>0</td>\n",
       "      <td>85.0</td>\n",
       "      <td>0</td>\n",
       "      <td>170.0</td>\n",
       "      <td>173.0</td>\n",
       "      <td>1</td>\n",
       "      <td>0</td>\n",
       "      <td>0</td>\n",
       "      <td>0</td>\n",
       "      <td>1</td>\n",
       "      <td>0</td>\n",
       "      <td>0</td>\n",
       "      <td>1</td>\n",
       "    </tr>\n",
       "    <tr>\n",
       "      <th>6</th>\n",
       "      <td>4</td>\n",
       "      <td>12</td>\n",
       "      <td>1</td>\n",
       "      <td>31</td>\n",
       "      <td>3.0</td>\n",
       "      <td>5.0</td>\n",
       "      <td>0</td>\n",
       "      <td>59.0</td>\n",
       "      <td>0</td>\n",
       "      <td>59.0</td>\n",
       "      <td>62.0</td>\n",
       "      <td>1</td>\n",
       "      <td>0</td>\n",
       "      <td>0</td>\n",
       "      <td>1</td>\n",
       "      <td>0</td>\n",
       "      <td>1</td>\n",
       "      <td>0</td>\n",
       "      <td>0</td>\n",
       "    </tr>\n",
       "    <tr>\n",
       "      <th>7</th>\n",
       "      <td>4</td>\n",
       "      <td>27</td>\n",
       "      <td>1</td>\n",
       "      <td>33</td>\n",
       "      <td>3.0</td>\n",
       "      <td>6.0</td>\n",
       "      <td>0</td>\n",
       "      <td>63.0</td>\n",
       "      <td>0</td>\n",
       "      <td>63.0</td>\n",
       "      <td>66.0</td>\n",
       "      <td>0</td>\n",
       "      <td>0</td>\n",
       "      <td>1</td>\n",
       "      <td>0</td>\n",
       "      <td>1</td>\n",
       "      <td>0</td>\n",
       "      <td>0</td>\n",
       "      <td>1</td>\n",
       "    </tr>\n",
       "    <tr>\n",
       "      <th>8</th>\n",
       "      <td>0</td>\n",
       "      <td>12</td>\n",
       "      <td>1</td>\n",
       "      <td>28</td>\n",
       "      <td>4.0</td>\n",
       "      <td>5.0</td>\n",
       "      <td>0</td>\n",
       "      <td>83.0</td>\n",
       "      <td>0</td>\n",
       "      <td>83.0</td>\n",
       "      <td>87.0</td>\n",
       "      <td>1</td>\n",
       "      <td>0</td>\n",
       "      <td>0</td>\n",
       "      <td>0</td>\n",
       "      <td>1</td>\n",
       "      <td>1</td>\n",
       "      <td>0</td>\n",
       "      <td>0</td>\n",
       "    </tr>\n",
       "    <tr>\n",
       "      <th>9</th>\n",
       "      <td>7</td>\n",
       "      <td>0</td>\n",
       "      <td>1</td>\n",
       "      <td>32</td>\n",
       "      <td>5.0</td>\n",
       "      <td>5.0</td>\n",
       "      <td>0</td>\n",
       "      <td>54.0</td>\n",
       "      <td>0</td>\n",
       "      <td>54.0</td>\n",
       "      <td>59.0</td>\n",
       "      <td>0</td>\n",
       "      <td>0</td>\n",
       "      <td>1</td>\n",
       "      <td>0</td>\n",
       "      <td>1</td>\n",
       "      <td>0</td>\n",
       "      <td>0</td>\n",
       "      <td>1</td>\n",
       "    </tr>\n",
       "  </tbody>\n",
       "</table>\n",
       "</div>"
      ],
      "text/plain": [
       "   department  region  no_of_trainings  age  previous_year_rating  \\\n",
       "0           7      31                1   35                   5.0   \n",
       "1           4      14                1   30                   5.0   \n",
       "2           7      10                1   34                   3.0   \n",
       "3           7      15                2   39                   1.0   \n",
       "4           8      18                1   45                   3.0   \n",
       "5           0      11                2   31                   3.0   \n",
       "6           4      12                1   31                   3.0   \n",
       "7           4      27                1   33                   3.0   \n",
       "8           0      12                1   28                   4.0   \n",
       "9           7       0                1   32                   5.0   \n",
       "\n",
       "   length_of_service  awards_won  avg_training_score  is_promoted  \\\n",
       "0                8.0           0                49.0            0   \n",
       "1                4.0           0                60.0            0   \n",
       "2                7.0           0                50.0            0   \n",
       "3               10.0           0                50.0            0   \n",
       "4                2.0           0                73.0            0   \n",
       "5                7.0           0                85.0            0   \n",
       "6                5.0           0                59.0            0   \n",
       "7                6.0           0                63.0            0   \n",
       "8                5.0           0                83.0            0   \n",
       "9                5.0           0                54.0            0   \n",
       "\n",
       "   total_training_score  sum_metric  education_Bachelor's  \\\n",
       "0                  49.0        54.0                     0   \n",
       "1                  60.0        65.0                     1   \n",
       "2                  50.0        53.0                     1   \n",
       "3                 100.0       101.0                     1   \n",
       "4                  73.0        76.0                     1   \n",
       "5                 170.0       173.0                     1   \n",
       "6                  59.0        62.0                     1   \n",
       "7                  63.0        66.0                     0   \n",
       "8                  83.0        87.0                     1   \n",
       "9                  54.0        59.0                     0   \n",
       "\n",
       "   education_Below Secondary  education_Master's & above  gender_f  gender_m  \\\n",
       "0                          0                           1         1         0   \n",
       "1                          0                           0         0         1   \n",
       "2                          0                           0         0         1   \n",
       "3                          0                           0         0         1   \n",
       "4                          0                           0         0         1   \n",
       "5                          0                           0         0         1   \n",
       "6                          0                           0         1         0   \n",
       "7                          0                           1         0         1   \n",
       "8                          0                           0         0         1   \n",
       "9                          0                           1         0         1   \n",
       "\n",
       "   recruitment_channel_other  recruitment_channel_referred  \\\n",
       "0                          0                             0   \n",
       "1                          1                             0   \n",
       "2                          0                             0   \n",
       "3                          1                             0   \n",
       "4                          1                             0   \n",
       "5                          0                             0   \n",
       "6                          1                             0   \n",
       "7                          0                             0   \n",
       "8                          1                             0   \n",
       "9                          0                             0   \n",
       "\n",
       "   recruitment_channel_sourcing  \n",
       "0                             1  \n",
       "1                             0  \n",
       "2                             1  \n",
       "3                             0  \n",
       "4                             0  \n",
       "5                             1  \n",
       "6                             0  \n",
       "7                             1  \n",
       "8                             0  \n",
       "9                             1  "
      ]
     },
     "execution_count": 57,
     "metadata": {},
     "output_type": "execute_result"
    }
   ],
   "source": [
    "data.head(10)"
   ]
  },
  {
   "cell_type": "code",
   "execution_count": 58,
   "id": "845364a5",
   "metadata": {},
   "outputs": [
    {
     "data": {
      "text/plain": [
       "department                        int32\n",
       "region                            int32\n",
       "no_of_trainings                   int64\n",
       "age                               int64\n",
       "previous_year_rating            float64\n",
       "length_of_service               float64\n",
       "awards_won                        int64\n",
       "avg_training_score              float64\n",
       "is_promoted                       int64\n",
       "total_training_score            float64\n",
       "sum_metric                      float64\n",
       "education_Bachelor's              uint8\n",
       "education_Below Secondary         uint8\n",
       "education_Master's & above        uint8\n",
       "gender_f                          uint8\n",
       "gender_m                          uint8\n",
       "recruitment_channel_other         uint8\n",
       "recruitment_channel_referred      uint8\n",
       "recruitment_channel_sourcing      uint8\n",
       "dtype: object"
      ]
     },
     "execution_count": 58,
     "metadata": {},
     "output_type": "execute_result"
    }
   ],
   "source": [
    "data.dtypes"
   ]
  },
  {
   "cell_type": "markdown",
   "id": "879166cb",
   "metadata": {},
   "source": [
    "### e) Feature Reduction"
   ]
  },
  {
   "cell_type": "code",
   "execution_count": 59,
   "id": "ecb3c1be",
   "metadata": {
    "scrolled": false
   },
   "outputs": [
    {
     "data": {
      "image/png": "[encoded data removed]",
      "text/plain": [
       "<Figure size 1440x864 with 2 Axes>"
      ]
     },
     "metadata": {
      "needs_background": "light"
     },
     "output_type": "display_data"
    }
   ],
   "source": [
    "# checking corerelation\n",
    "plt.subplots(figsize=(20,12))\n",
    "sns.heatmap(data=data.corr(), vmin=-0.99, vmax=0.99, annot=True, linewidth=0.2, cmap='YlGnBu')\n",
    "plt.show()"
   ]
  },
  {
   "cell_type": "markdown",
   "id": "13db1563",
   "metadata": {},
   "source": [
    "Lets drop 'department' and 'region' columns as they are very least related to promotion of an employee."
   ]
  },
  {
   "cell_type": "code",
   "execution_count": 60,
   "id": "23f15004",
   "metadata": {},
   "outputs": [],
   "source": [
    "# droping columns with least correlation with promotion\n",
    "\n",
    "data.drop(['department', 'region'],axis=1, inplace=True)"
   ]
  },
  {
   "cell_type": "code",
   "execution_count": 61,
   "id": "f95e228c",
   "metadata": {},
   "outputs": [
    {
     "name": "stdout",
     "output_type": "stream",
     "text": [
      "Number of columns after feature reduction:  17\n"
     ]
    }
   ],
   "source": [
    "print('Number of columns after feature reduction: ',len(data.columns))"
   ]
  },
  {
   "cell_type": "markdown",
   "id": "9847d04b",
   "metadata": {},
   "source": [
    "### f) Splitting the data"
   ]
  },
  {
   "cell_type": "code",
   "execution_count": 62,
   "id": "fee0e6fe",
   "metadata": {},
   "outputs": [
    {
     "name": "stdout",
     "output_type": "stream",
     "text": [
      "shape of X:  (54808, 16)\n",
      "shape of y:  (54808,)\n"
     ]
    }
   ],
   "source": [
    "# splitting the data into dependent and independent variable\n",
    "\n",
    "y = data['is_promoted']\n",
    "X= data.drop(['is_promoted'], axis=1)\n",
    "\n",
    "print('shape of X: ',X.shape)\n",
    "print('shape of y: ',y.shape)"
   ]
  },
  {
   "cell_type": "markdown",
   "id": "e2172aa3",
   "metadata": {},
   "source": [
    "### g) Feature Scaling"
   ]
  },
  {
   "cell_type": "code",
   "execution_count": 63,
   "id": "322da7a0",
   "metadata": {},
   "outputs": [
    {
     "data": {
      "text/html": [
       "<div>\n",
       "<style scoped>\n",
       "    .dataframe tbody tr th:only-of-type {\n",
       "        vertical-align: middle;\n",
       "    }\n",
       "\n",
       "    .dataframe tbody tr th {\n",
       "        vertical-align: top;\n",
       "    }\n",
       "\n",
       "    .dataframe thead th {\n",
       "        text-align: right;\n",
       "    }\n",
       "</style>\n",
       "<table border=\"1\" class=\"dataframe\">\n",
       "  <thead>\n",
       "    <tr style=\"text-align: right;\">\n",
       "      <th></th>\n",
       "      <th>no_of_trainings</th>\n",
       "      <th>age</th>\n",
       "      <th>previous_year_rating</th>\n",
       "      <th>length_of_service</th>\n",
       "      <th>awards_won</th>\n",
       "      <th>avg_training_score</th>\n",
       "      <th>total_training_score</th>\n",
       "      <th>sum_metric</th>\n",
       "      <th>education_Bachelor's</th>\n",
       "      <th>education_Below Secondary</th>\n",
       "      <th>education_Master's &amp; above</th>\n",
       "      <th>gender_f</th>\n",
       "      <th>gender_m</th>\n",
       "      <th>recruitment_channel_other</th>\n",
       "      <th>recruitment_channel_referred</th>\n",
       "      <th>recruitment_channel_sourcing</th>\n",
       "    </tr>\n",
       "  </thead>\n",
       "  <tbody>\n",
       "    <tr>\n",
       "      <th>count</th>\n",
       "      <td>54808.000000</td>\n",
       "      <td>54808.000000</td>\n",
       "      <td>54808.000000</td>\n",
       "      <td>54808.000000</td>\n",
       "      <td>54808.000000</td>\n",
       "      <td>54808.000000</td>\n",
       "      <td>54808.000000</td>\n",
       "      <td>54808.000000</td>\n",
       "      <td>54808.000000</td>\n",
       "      <td>54808.000000</td>\n",
       "      <td>54808.000000</td>\n",
       "      <td>54808.000000</td>\n",
       "      <td>54808.000000</td>\n",
       "      <td>54808.000000</td>\n",
       "      <td>54808.000000</td>\n",
       "      <td>54808.000000</td>\n",
       "    </tr>\n",
       "    <tr>\n",
       "      <th>mean</th>\n",
       "      <td>1.253011</td>\n",
       "      <td>34.803915</td>\n",
       "      <td>3.078748</td>\n",
       "      <td>5.570829</td>\n",
       "      <td>0.023172</td>\n",
       "      <td>63.071760</td>\n",
       "      <td>79.409812</td>\n",
       "      <td>82.511732</td>\n",
       "      <td>0.712998</td>\n",
       "      <td>0.014688</td>\n",
       "      <td>0.272314</td>\n",
       "      <td>0.297621</td>\n",
       "      <td>0.702379</td>\n",
       "      <td>0.555503</td>\n",
       "      <td>0.020836</td>\n",
       "      <td>0.423661</td>\n",
       "    </tr>\n",
       "    <tr>\n",
       "      <th>std</th>\n",
       "      <td>0.609264</td>\n",
       "      <td>7.660169</td>\n",
       "      <td>1.496458</td>\n",
       "      <td>3.414373</td>\n",
       "      <td>0.150450</td>\n",
       "      <td>13.515692</td>\n",
       "      <td>43.932159</td>\n",
       "      <td>43.925119</td>\n",
       "      <td>0.452367</td>\n",
       "      <td>0.120300</td>\n",
       "      <td>0.445155</td>\n",
       "      <td>0.457216</td>\n",
       "      <td>0.457216</td>\n",
       "      <td>0.496914</td>\n",
       "      <td>0.142838</td>\n",
       "      <td>0.494142</td>\n",
       "    </tr>\n",
       "    <tr>\n",
       "      <th>min</th>\n",
       "      <td>1.000000</td>\n",
       "      <td>20.000000</td>\n",
       "      <td>0.000000</td>\n",
       "      <td>1.000000</td>\n",
       "      <td>0.000000</td>\n",
       "      <td>39.000000</td>\n",
       "      <td>39.000000</td>\n",
       "      <td>40.000000</td>\n",
       "      <td>0.000000</td>\n",
       "      <td>0.000000</td>\n",
       "      <td>0.000000</td>\n",
       "      <td>0.000000</td>\n",
       "      <td>0.000000</td>\n",
       "      <td>0.000000</td>\n",
       "      <td>0.000000</td>\n",
       "      <td>0.000000</td>\n",
       "    </tr>\n",
       "    <tr>\n",
       "      <th>25%</th>\n",
       "      <td>1.000000</td>\n",
       "      <td>29.000000</td>\n",
       "      <td>2.000000</td>\n",
       "      <td>3.000000</td>\n",
       "      <td>0.000000</td>\n",
       "      <td>50.000000</td>\n",
       "      <td>52.000000</td>\n",
       "      <td>55.000000</td>\n",
       "      <td>0.000000</td>\n",
       "      <td>0.000000</td>\n",
       "      <td>0.000000</td>\n",
       "      <td>0.000000</td>\n",
       "      <td>0.000000</td>\n",
       "      <td>0.000000</td>\n",
       "      <td>0.000000</td>\n",
       "      <td>0.000000</td>\n",
       "    </tr>\n",
       "    <tr>\n",
       "      <th>50%</th>\n",
       "      <td>1.000000</td>\n",
       "      <td>33.000000</td>\n",
       "      <td>3.000000</td>\n",
       "      <td>5.000000</td>\n",
       "      <td>0.000000</td>\n",
       "      <td>59.000000</td>\n",
       "      <td>64.000000</td>\n",
       "      <td>68.000000</td>\n",
       "      <td>1.000000</td>\n",
       "      <td>0.000000</td>\n",
       "      <td>0.000000</td>\n",
       "      <td>0.000000</td>\n",
       "      <td>1.000000</td>\n",
       "      <td>1.000000</td>\n",
       "      <td>0.000000</td>\n",
       "      <td>0.000000</td>\n",
       "    </tr>\n",
       "    <tr>\n",
       "      <th>75%</th>\n",
       "      <td>1.000000</td>\n",
       "      <td>39.000000</td>\n",
       "      <td>4.000000</td>\n",
       "      <td>7.000000</td>\n",
       "      <td>0.000000</td>\n",
       "      <td>76.000000</td>\n",
       "      <td>84.000000</td>\n",
       "      <td>87.000000</td>\n",
       "      <td>1.000000</td>\n",
       "      <td>0.000000</td>\n",
       "      <td>1.000000</td>\n",
       "      <td>1.000000</td>\n",
       "      <td>1.000000</td>\n",
       "      <td>1.000000</td>\n",
       "      <td>0.000000</td>\n",
       "      <td>1.000000</td>\n",
       "    </tr>\n",
       "    <tr>\n",
       "      <th>max</th>\n",
       "      <td>10.000000</td>\n",
       "      <td>60.000000</td>\n",
       "      <td>5.000000</td>\n",
       "      <td>13.000000</td>\n",
       "      <td>1.000000</td>\n",
       "      <td>99.000000</td>\n",
       "      <td>710.000000</td>\n",
       "      <td>713.000000</td>\n",
       "      <td>1.000000</td>\n",
       "      <td>1.000000</td>\n",
       "      <td>1.000000</td>\n",
       "      <td>1.000000</td>\n",
       "      <td>1.000000</td>\n",
       "      <td>1.000000</td>\n",
       "      <td>1.000000</td>\n",
       "      <td>1.000000</td>\n",
       "    </tr>\n",
       "  </tbody>\n",
       "</table>\n",
       "</div>"
      ],
      "text/plain": [
       "       no_of_trainings           age  previous_year_rating  length_of_service  \\\n",
       "count     54808.000000  54808.000000          54808.000000       54808.000000   \n",
       "mean          1.253011     34.803915              3.078748           5.570829   \n",
       "std           0.609264      7.660169              1.496458           3.414373   \n",
       "min           1.000000     20.000000              0.000000           1.000000   \n",
       "25%           1.000000     29.000000              2.000000           3.000000   \n",
       "50%           1.000000     33.000000              3.000000           5.000000   \n",
       "75%           1.000000     39.000000              4.000000           7.000000   \n",
       "max          10.000000     60.000000              5.000000          13.000000   \n",
       "\n",
       "         awards_won  avg_training_score  total_training_score    sum_metric  \\\n",
       "count  54808.000000        54808.000000          54808.000000  54808.000000   \n",
       "mean       0.023172           63.071760             79.409812     82.511732   \n",
       "std        0.150450           13.515692             43.932159     43.925119   \n",
       "min        0.000000           39.000000             39.000000     40.000000   \n",
       "25%        0.000000           50.000000             52.000000     55.000000   \n",
       "50%        0.000000           59.000000             64.000000     68.000000   \n",
       "75%        0.000000           76.000000             84.000000     87.000000   \n",
       "max        1.000000           99.000000            710.000000    713.000000   \n",
       "\n",
       "       education_Bachelor's  education_Below Secondary  \\\n",
       "count          54808.000000               54808.000000   \n",
       "mean               0.712998                   0.014688   \n",
       "std                0.452367                   0.120300   \n",
       "min                0.000000                   0.000000   \n",
       "25%                0.000000                   0.000000   \n",
       "50%                1.000000                   0.000000   \n",
       "75%                1.000000                   0.000000   \n",
       "max                1.000000                   1.000000   \n",
       "\n",
       "       education_Master's & above      gender_f      gender_m  \\\n",
       "count                54808.000000  54808.000000  54808.000000   \n",
       "mean                     0.272314      0.297621      0.702379   \n",
       "std                      0.445155      0.457216      0.457216   \n",
       "min                      0.000000      0.000000      0.000000   \n",
       "25%                      0.000000      0.000000      0.000000   \n",
       "50%                      0.000000      0.000000      1.000000   \n",
       "75%                      1.000000      1.000000      1.000000   \n",
       "max                      1.000000      1.000000      1.000000   \n",
       "\n",
       "       recruitment_channel_other  recruitment_channel_referred  \\\n",
       "count               54808.000000                  54808.000000   \n",
       "mean                    0.555503                      0.020836   \n",
       "std                     0.496914                      0.142838   \n",
       "min                     0.000000                      0.000000   \n",
       "25%                     0.000000                      0.000000   \n",
       "50%                     1.000000                      0.000000   \n",
       "75%                     1.000000                      0.000000   \n",
       "max                     1.000000                      1.000000   \n",
       "\n",
       "       recruitment_channel_sourcing  \n",
       "count                  54808.000000  \n",
       "mean                       0.423661  \n",
       "std                        0.494142  \n",
       "min                        0.000000  \n",
       "25%                        0.000000  \n",
       "50%                        0.000000  \n",
       "75%                        1.000000  \n",
       "max                        1.000000  "
      ]
     },
     "execution_count": 63,
     "metadata": {},
     "output_type": "execute_result"
    }
   ],
   "source": [
    "X.describe()"
   ]
  },
  {
   "cell_type": "code",
   "execution_count": 64,
   "id": "a55bf58a",
   "metadata": {},
   "outputs": [],
   "source": [
    "# MinMax Scaling\n",
    "\n",
    "min_max = preprocessing.MinMaxScaler()\n",
    "X = min_max.fit_transform(X)\n",
    "X = pd.DataFrame(X)"
   ]
  },
  {
   "cell_type": "code",
   "execution_count": 65,
   "id": "cd3a2eea",
   "metadata": {},
   "outputs": [
    {
     "data": {
      "text/html": [
       "<div>\n",
       "<style scoped>\n",
       "    .dataframe tbody tr th:only-of-type {\n",
       "        vertical-align: middle;\n",
       "    }\n",
       "\n",
       "    .dataframe tbody tr th {\n",
       "        vertical-align: top;\n",
       "    }\n",
       "\n",
       "    .dataframe thead th {\n",
       "        text-align: right;\n",
       "    }\n",
       "</style>\n",
       "<table border=\"1\" class=\"dataframe\">\n",
       "  <thead>\n",
       "    <tr style=\"text-align: right;\">\n",
       "      <th></th>\n",
       "      <th>0</th>\n",
       "      <th>1</th>\n",
       "      <th>2</th>\n",
       "      <th>3</th>\n",
       "      <th>4</th>\n",
       "      <th>5</th>\n",
       "      <th>6</th>\n",
       "      <th>7</th>\n",
       "      <th>8</th>\n",
       "      <th>9</th>\n",
       "      <th>10</th>\n",
       "      <th>11</th>\n",
       "      <th>12</th>\n",
       "      <th>13</th>\n",
       "      <th>14</th>\n",
       "      <th>15</th>\n",
       "    </tr>\n",
       "  </thead>\n",
       "  <tbody>\n",
       "    <tr>\n",
       "      <th>count</th>\n",
       "      <td>54808.000000</td>\n",
       "      <td>54808.000000</td>\n",
       "      <td>54808.000000</td>\n",
       "      <td>54808.000000</td>\n",
       "      <td>54808.000000</td>\n",
       "      <td>54808.000000</td>\n",
       "      <td>54808.000000</td>\n",
       "      <td>54808.000000</td>\n",
       "      <td>54808.000000</td>\n",
       "      <td>54808.000000</td>\n",
       "      <td>54808.000000</td>\n",
       "      <td>54808.000000</td>\n",
       "      <td>54808.000000</td>\n",
       "      <td>54808.000000</td>\n",
       "      <td>54808.000000</td>\n",
       "      <td>54808.000000</td>\n",
       "    </tr>\n",
       "    <tr>\n",
       "      <th>mean</th>\n",
       "      <td>0.028112</td>\n",
       "      <td>0.370098</td>\n",
       "      <td>0.615750</td>\n",
       "      <td>0.380902</td>\n",
       "      <td>0.023172</td>\n",
       "      <td>0.401196</td>\n",
       "      <td>0.060223</td>\n",
       "      <td>0.063168</td>\n",
       "      <td>0.712998</td>\n",
       "      <td>0.014688</td>\n",
       "      <td>0.272314</td>\n",
       "      <td>0.297621</td>\n",
       "      <td>0.702379</td>\n",
       "      <td>0.555503</td>\n",
       "      <td>0.020836</td>\n",
       "      <td>0.423661</td>\n",
       "    </tr>\n",
       "    <tr>\n",
       "      <th>std</th>\n",
       "      <td>0.067696</td>\n",
       "      <td>0.191504</td>\n",
       "      <td>0.299292</td>\n",
       "      <td>0.284531</td>\n",
       "      <td>0.150450</td>\n",
       "      <td>0.225262</td>\n",
       "      <td>0.065473</td>\n",
       "      <td>0.065268</td>\n",
       "      <td>0.452367</td>\n",
       "      <td>0.120300</td>\n",
       "      <td>0.445155</td>\n",
       "      <td>0.457216</td>\n",
       "      <td>0.457216</td>\n",
       "      <td>0.496914</td>\n",
       "      <td>0.142838</td>\n",
       "      <td>0.494142</td>\n",
       "    </tr>\n",
       "    <tr>\n",
       "      <th>min</th>\n",
       "      <td>0.000000</td>\n",
       "      <td>0.000000</td>\n",
       "      <td>0.000000</td>\n",
       "      <td>0.000000</td>\n",
       "      <td>0.000000</td>\n",
       "      <td>0.000000</td>\n",
       "      <td>0.000000</td>\n",
       "      <td>0.000000</td>\n",
       "      <td>0.000000</td>\n",
       "      <td>0.000000</td>\n",
       "      <td>0.000000</td>\n",
       "      <td>0.000000</td>\n",
       "      <td>0.000000</td>\n",
       "      <td>0.000000</td>\n",
       "      <td>0.000000</td>\n",
       "      <td>0.000000</td>\n",
       "    </tr>\n",
       "    <tr>\n",
       "      <th>25%</th>\n",
       "      <td>0.000000</td>\n",
       "      <td>0.225000</td>\n",
       "      <td>0.400000</td>\n",
       "      <td>0.166667</td>\n",
       "      <td>0.000000</td>\n",
       "      <td>0.183333</td>\n",
       "      <td>0.019374</td>\n",
       "      <td>0.022288</td>\n",
       "      <td>0.000000</td>\n",
       "      <td>0.000000</td>\n",
       "      <td>0.000000</td>\n",
       "      <td>0.000000</td>\n",
       "      <td>0.000000</td>\n",
       "      <td>0.000000</td>\n",
       "      <td>0.000000</td>\n",
       "      <td>0.000000</td>\n",
       "    </tr>\n",
       "    <tr>\n",
       "      <th>50%</th>\n",
       "      <td>0.000000</td>\n",
       "      <td>0.325000</td>\n",
       "      <td>0.600000</td>\n",
       "      <td>0.333333</td>\n",
       "      <td>0.000000</td>\n",
       "      <td>0.333333</td>\n",
       "      <td>0.037258</td>\n",
       "      <td>0.041605</td>\n",
       "      <td>1.000000</td>\n",
       "      <td>0.000000</td>\n",
       "      <td>0.000000</td>\n",
       "      <td>0.000000</td>\n",
       "      <td>1.000000</td>\n",
       "      <td>1.000000</td>\n",
       "      <td>0.000000</td>\n",
       "      <td>0.000000</td>\n",
       "    </tr>\n",
       "    <tr>\n",
       "      <th>75%</th>\n",
       "      <td>0.000000</td>\n",
       "      <td>0.475000</td>\n",
       "      <td>0.800000</td>\n",
       "      <td>0.500000</td>\n",
       "      <td>0.000000</td>\n",
       "      <td>0.616667</td>\n",
       "      <td>0.067064</td>\n",
       "      <td>0.069837</td>\n",
       "      <td>1.000000</td>\n",
       "      <td>0.000000</td>\n",
       "      <td>1.000000</td>\n",
       "      <td>1.000000</td>\n",
       "      <td>1.000000</td>\n",
       "      <td>1.000000</td>\n",
       "      <td>0.000000</td>\n",
       "      <td>1.000000</td>\n",
       "    </tr>\n",
       "    <tr>\n",
       "      <th>max</th>\n",
       "      <td>1.000000</td>\n",
       "      <td>1.000000</td>\n",
       "      <td>1.000000</td>\n",
       "      <td>1.000000</td>\n",
       "      <td>1.000000</td>\n",
       "      <td>1.000000</td>\n",
       "      <td>1.000000</td>\n",
       "      <td>1.000000</td>\n",
       "      <td>1.000000</td>\n",
       "      <td>1.000000</td>\n",
       "      <td>1.000000</td>\n",
       "      <td>1.000000</td>\n",
       "      <td>1.000000</td>\n",
       "      <td>1.000000</td>\n",
       "      <td>1.000000</td>\n",
       "      <td>1.000000</td>\n",
       "    </tr>\n",
       "  </tbody>\n",
       "</table>\n",
       "</div>"
      ],
      "text/plain": [
       "                 0             1             2             3             4   \\\n",
       "count  54808.000000  54808.000000  54808.000000  54808.000000  54808.000000   \n",
       "mean       0.028112      0.370098      0.615750      0.380902      0.023172   \n",
       "std        0.067696      0.191504      0.299292      0.284531      0.150450   \n",
       "min        0.000000      0.000000      0.000000      0.000000      0.000000   \n",
       "25%        0.000000      0.225000      0.400000      0.166667      0.000000   \n",
       "50%        0.000000      0.325000      0.600000      0.333333      0.000000   \n",
       "75%        0.000000      0.475000      0.800000      0.500000      0.000000   \n",
       "max        1.000000      1.000000      1.000000      1.000000      1.000000   \n",
       "\n",
       "                 5             6             7             8             9   \\\n",
       "count  54808.000000  54808.000000  54808.000000  54808.000000  54808.000000   \n",
       "mean       0.401196      0.060223      0.063168      0.712998      0.014688   \n",
       "std        0.225262      0.065473      0.065268      0.452367      0.120300   \n",
       "min        0.000000      0.000000      0.000000      0.000000      0.000000   \n",
       "25%        0.183333      0.019374      0.022288      0.000000      0.000000   \n",
       "50%        0.333333      0.037258      0.041605      1.000000      0.000000   \n",
       "75%        0.616667      0.067064      0.069837      1.000000      0.000000   \n",
       "max        1.000000      1.000000      1.000000      1.000000      1.000000   \n",
       "\n",
       "                 10            11            12            13            14  \\\n",
       "count  54808.000000  54808.000000  54808.000000  54808.000000  54808.000000   \n",
       "mean       0.272314      0.297621      0.702379      0.555503      0.020836   \n",
       "std        0.445155      0.457216      0.457216      0.496914      0.142838   \n",
       "min        0.000000      0.000000      0.000000      0.000000      0.000000   \n",
       "25%        0.000000      0.000000      0.000000      0.000000      0.000000   \n",
       "50%        0.000000      0.000000      1.000000      1.000000      0.000000   \n",
       "75%        1.000000      1.000000      1.000000      1.000000      0.000000   \n",
       "max        1.000000      1.000000      1.000000      1.000000      1.000000   \n",
       "\n",
       "                 15  \n",
       "count  54808.000000  \n",
       "mean       0.423661  \n",
       "std        0.494142  \n",
       "min        0.000000  \n",
       "25%        0.000000  \n",
       "50%        0.000000  \n",
       "75%        1.000000  \n",
       "max        1.000000  "
      ]
     },
     "execution_count": 65,
     "metadata": {},
     "output_type": "execute_result"
    }
   ],
   "source": [
    "X.describe()"
   ]
  },
  {
   "cell_type": "markdown",
   "id": "8aa2f0b7",
   "metadata": {},
   "source": [
    "# Machine Learning - Predictive Modeling"
   ]
  },
  {
   "cell_type": "code",
   "execution_count": 66,
   "id": "a694b68d",
   "metadata": {},
   "outputs": [
    {
     "data": {
      "text/plain": [
       "0    0.91483\n",
       "1    0.08517\n",
       "Name: is_promoted, dtype: float64"
      ]
     },
     "execution_count": 66,
     "metadata": {},
     "output_type": "execute_result"
    }
   ],
   "source": [
    "y.value_counts(normalize=True)"
   ]
  },
  {
   "cell_type": "markdown",
   "id": "dcf12cdd",
   "metadata": {},
   "source": [
    "As we have already seen, our target column is highly imbalanced. So we need to perform either oversampling or undersampling inorder to balance the data."
   ]
  },
  {
   "cell_type": "markdown",
   "id": "b72ca21a",
   "metadata": {},
   "source": [
    "### Resampling"
   ]
  },
  {
   "cell_type": "code",
   "execution_count": 67,
   "id": "f8d667f7",
   "metadata": {},
   "outputs": [],
   "source": [
    "# OverSampling by SMOTE method\n",
    "\n",
    "from imblearn.over_sampling import SMOTE\n",
    "smote = SMOTE()\n",
    "X_up, y_up = smote.fit_resample(X, y)"
   ]
  },
  {
   "cell_type": "code",
   "execution_count": 68,
   "id": "1edb8860",
   "metadata": {},
   "outputs": [
    {
     "data": {
      "text/plain": [
       "0    0.5\n",
       "1    0.5\n",
       "Name: is_promoted, dtype: float64"
      ]
     },
     "execution_count": 68,
     "metadata": {},
     "output_type": "execute_result"
    }
   ],
   "source": [
    "# checking target column to make sure its balanced\n",
    "\n",
    "y_up.value_counts(normalize=True)"
   ]
  },
  {
   "cell_type": "code",
   "execution_count": 69,
   "id": "764f10a0",
   "metadata": {},
   "outputs": [
    {
     "data": {
      "image/png": "[encoded data removed]",
      "text/plain": [
       "<Figure size 432x288 with 1 Axes>"
      ]
     },
     "metadata": {
      "needs_background": "light"
     },
     "output_type": "display_data"
    }
   ],
   "source": [
    "plt.figure(figsize=(6, 4))\n",
    "sns.countplot(x=y_up)\n",
    "plt.show()"
   ]
  },
  {
   "cell_type": "markdown",
   "id": "c689425f",
   "metadata": {},
   "source": [
    "Data is now balanced"
   ]
  },
  {
   "cell_type": "markdown",
   "id": "9eeb6470",
   "metadata": {},
   "source": [
    "### Splitting into train and test data"
   ]
  },
  {
   "cell_type": "code",
   "execution_count": 70,
   "id": "cbc13edc",
   "metadata": {},
   "outputs": [
    {
     "name": "stdout",
     "output_type": "stream",
     "text": [
      "Shape of X_train:  (75210, 16)\n",
      "Shape of X_test:  (25070, 16)\n",
      "Shape of y_train:  (75210,)\n",
      "Shape of y_test:  (25070,)\n"
     ]
    }
   ],
   "source": [
    "from sklearn.model_selection import train_test_split\n",
    "X_train, X_test, y_train, y_test = train_test_split(X_up, y_up, random_state=42, test_size=0.25)\n",
    "\n",
    "print('Shape of X_train: ',X_train.shape)\n",
    "print('Shape of X_test: ',X_test.shape)\n",
    "print('Shape of y_train: ',y_train.shape)\n",
    "print('Shape of y_test: ',y_test.shape)"
   ]
  },
  {
   "cell_type": "markdown",
   "id": "aeda7845",
   "metadata": {},
   "source": [
    "### Predictive Modeling"
   ]
  },
  {
   "cell_type": "code",
   "execution_count": 71,
   "id": "f850e9ab",
   "metadata": {},
   "outputs": [],
   "source": [
    "# importing necessary libraries to get the test results\n",
    "\n",
    "from sklearn.metrics import accuracy_score, f1_score, classification_report\n",
    "\n",
    "#to get a consolidated test result:\n",
    "results = {'Classification Model':[], 'F1 Score':[]}"
   ]
  },
  {
   "cell_type": "markdown",
   "id": "b54b4130",
   "metadata": {},
   "source": [
    "## a) Logestic Regression"
   ]
  },
  {
   "cell_type": "code",
   "execution_count": 72,
   "id": "99b30a45",
   "metadata": {},
   "outputs": [
    {
     "name": "stdout",
     "output_type": "stream",
     "text": [
      "Classification Model: LogisticRegression\n",
      "F1 Score:  0.6595\n",
      "Classification Report: \n",
      "               precision    recall  f1-score   support\n",
      "\n",
      "           0       0.66      0.69      0.67     12647\n",
      "           1       0.66      0.63      0.65     12423\n",
      "\n",
      "    accuracy                           0.66     25070\n",
      "   macro avg       0.66      0.66      0.66     25070\n",
      "weighted avg       0.66      0.66      0.66     25070\n",
      "\n"
     ]
    },
    {
     "name": "stderr",
     "output_type": "stream",
     "text": [
      "C:\\Users\\Lenovo\\anaconda3\\lib\\site-packages\\sklearn\\linear_model\\_logistic.py:763: ConvergenceWarning: lbfgs failed to converge (status=1):\n",
      "STOP: TOTAL NO. of ITERATIONS REACHED LIMIT.\n",
      "\n",
      "Increase the number of iterations (max_iter) or scale the data as shown in:\n",
      "    https://scikit-learn.org/stable/modules/preprocessing.html\n",
      "Please also refer to the documentation for alternative solver options:\n",
      "    https://scikit-learn.org/stable/modules/linear_model.html#logistic-regression\n",
      "  n_iter_i = _check_optimize_result(\n"
     ]
    }
   ],
   "source": [
    "from sklearn.linear_model import LogisticRegression\n",
    "\n",
    "clf = LogisticRegression()\n",
    "clf.fit(X_train, y_train)\n",
    "\n",
    "y_pred = clf.predict(X_test)\n",
    "\n",
    "print('Classification Model: {}'.format(clf.__class__.__name__))\n",
    "print('F1 Score: ',f1_score(y_test, y_pred, average='macro').round(4))\n",
    "print('Classification Report: \\n',classification_report(y_test, y_pred))\n",
    "\n",
    "if clf.__class__.__name__ not in results['Classification Model']:\n",
    "    results['Classification Model'].append(clf.__class__.__name__)\n",
    "    results['F1 Score'].append(f1_score(y_test, y_pred, average='macro').round(4))"
   ]
  },
  {
   "cell_type": "markdown",
   "id": "666c333d",
   "metadata": {},
   "source": [
    "## b) kNN"
   ]
  },
  {
   "cell_type": "code",
   "execution_count": 73,
   "id": "60590b72",
   "metadata": {},
   "outputs": [
    {
     "data": {
      "image/png": "[encoded data removed]",
      "text/plain": [
       "<Figure size 432x288 with 1 Axes>"
      ]
     },
     "metadata": {
      "needs_background": "light"
     },
     "output_type": "display_data"
    }
   ],
   "source": [
    "# Finding the optimum k value\n",
    "from sklearn.neighbors import KNeighborsClassifier\n",
    "values=[]\n",
    "neighbors=np.arange(1,10)\n",
    "for k in neighbors:\n",
    "    clf=KNeighborsClassifier(n_neighbors=k, metric='minkowski')\n",
    "    clf.fit(X_train, y_train)\n",
    "    y_pred=clf.predict(X_test)\n",
    "    score=accuracy_score(y_test, y_pred)\n",
    "    values.append(score)\n",
    "    \n",
    "# plotting k vs accuracy_score to get optimum k\n",
    "plt.plot(neighbors, values, 'o-')\n",
    "plt.title('accuracy_score vs k')\n",
    "plt.xticks(np.arange(0.0, 11.0, 1.0))\n",
    "plt.xlabel('k')\n",
    "plt.ylabel('accuracy_score')\n",
    "plt.grid()\n",
    "plt.show()"
   ]
  },
  {
   "cell_type": "code",
   "execution_count": 74,
   "id": "47d4c7e7",
   "metadata": {},
   "outputs": [
    {
     "name": "stdout",
     "output_type": "stream",
     "text": [
      "Classification Model: KNeighborsClassifier\n",
      "F1 Score:  0.8793\n",
      "Classification Report: \n",
      "               precision    recall  f1-score   support\n",
      "\n",
      "           0       0.90      0.85      0.88     12647\n",
      "           1       0.86      0.91      0.88     12423\n",
      "\n",
      "    accuracy                           0.88     25070\n",
      "   macro avg       0.88      0.88      0.88     25070\n",
      "weighted avg       0.88      0.88      0.88     25070\n",
      "\n"
     ]
    }
   ],
   "source": [
    "# performing test with k=1\n",
    "\n",
    "clf=KNeighborsClassifier(n_neighbors=1, metric='minkowski')\n",
    "clf.fit(X_train, y_train)\n",
    "\n",
    "y_pred = clf.predict(X_test)\n",
    "\n",
    "print('Classification Model: {}'.format(clf.__class__.__name__))\n",
    "print('F1 Score: ',f1_score(y_test, y_pred, average='macro').round(4))\n",
    "print('Classification Report: \\n',classification_report(y_test, y_pred))\n",
    "\n",
    "if clf.__class__.__name__ not in results['Classification Model']:\n",
    "    results['Classification Model'].append(clf.__class__.__name__)\n",
    "    results['F1 Score'].append(f1_score(y_test, y_pred, average='macro').round(4))"
   ]
  },
  {
   "cell_type": "markdown",
   "id": "3375016c",
   "metadata": {},
   "source": [
    "## c) SVM"
   ]
  },
  {
   "cell_type": "code",
   "execution_count": 75,
   "id": "a6d04636",
   "metadata": {},
   "outputs": [
    {
     "name": "stdout",
     "output_type": "stream",
     "text": [
      "Classification Model: SVC\n",
      "F1 Score:  0.6786\n",
      "Classification Report: \n",
      "               precision    recall  f1-score   support\n",
      "\n",
      "           0       0.67      0.71      0.69     12647\n",
      "           1       0.69      0.64      0.67     12423\n",
      "\n",
      "    accuracy                           0.68     25070\n",
      "   macro avg       0.68      0.68      0.68     25070\n",
      "weighted avg       0.68      0.68      0.68     25070\n",
      "\n"
     ]
    }
   ],
   "source": [
    "from sklearn.svm import SVC\n",
    "\n",
    "clf = SVC()\n",
    "clf.fit(X_train, y_train)\n",
    "\n",
    "y_pred = clf.predict(X_test)\n",
    "\n",
    "print('Classification Model: {}'.format(clf.__class__.__name__))\n",
    "print('F1 Score: ',f1_score(y_test, y_pred, average='macro').round(4))\n",
    "print('Classification Report: \\n',classification_report(y_test, y_pred))\n",
    "\n",
    "if clf.__class__.__name__ not in results['Classification Model']:\n",
    "    results['Classification Model'].append(clf.__class__.__name__)\n",
    "    results['F1 Score'].append(f1_score(y_test, y_pred, average='macro').round(4))"
   ]
  },
  {
   "cell_type": "markdown",
   "id": "5e168a93",
   "metadata": {},
   "source": [
    "## d) Decision Tree"
   ]
  },
  {
   "cell_type": "code",
   "execution_count": 76,
   "id": "11485618",
   "metadata": {},
   "outputs": [
    {
     "name": "stdout",
     "output_type": "stream",
     "text": [
      "Classification Model: DecisionTreeClassifier\n",
      "F1 Score:  0.9123\n",
      "Classification Report: \n",
      "               precision    recall  f1-score   support\n",
      "\n",
      "           0       0.92      0.91      0.91     12647\n",
      "           1       0.91      0.91      0.91     12423\n",
      "\n",
      "    accuracy                           0.91     25070\n",
      "   macro avg       0.91      0.91      0.91     25070\n",
      "weighted avg       0.91      0.91      0.91     25070\n",
      "\n"
     ]
    }
   ],
   "source": [
    "from sklearn.tree import DecisionTreeClassifier\n",
    "\n",
    "clf = DecisionTreeClassifier()\n",
    "clf.fit(X_train, y_train)\n",
    "\n",
    "y_pred = clf.predict(X_test)\n",
    "\n",
    "print('Classification Model: {}'.format(clf.__class__.__name__))\n",
    "print('F1 Score: ',f1_score(y_test, y_pred, average='macro').round(4))\n",
    "print('Classification Report: \\n',classification_report(y_test, y_pred))\n",
    "\n",
    "if clf.__class__.__name__ not in results['Classification Model']:\n",
    "    results['Classification Model'].append(clf.__class__.__name__)\n",
    "    results['F1 Score'].append(f1_score(y_test, y_pred, average='macro').round(4))"
   ]
  },
  {
   "cell_type": "markdown",
   "id": "06694bf7",
   "metadata": {},
   "source": [
    "## e) Random Forest Classifier"
   ]
  },
  {
   "cell_type": "code",
   "execution_count": 77,
   "id": "d31e1da3",
   "metadata": {},
   "outputs": [
    {
     "name": "stdout",
     "output_type": "stream",
     "text": [
      "Classification Model: RandomForestClassifier\n",
      "F1 Score:  0.9319\n",
      "Classification Report: \n",
      "               precision    recall  f1-score   support\n",
      "\n",
      "           0       0.92      0.95      0.93     12647\n",
      "           1       0.94      0.92      0.93     12423\n",
      "\n",
      "    accuracy                           0.93     25070\n",
      "   macro avg       0.93      0.93      0.93     25070\n",
      "weighted avg       0.93      0.93      0.93     25070\n",
      "\n"
     ]
    }
   ],
   "source": [
    "from sklearn.ensemble import RandomForestClassifier\n",
    "\n",
    "clf = RandomForestClassifier()\n",
    "clf.fit(X_train, y_train)\n",
    "\n",
    "y_pred = clf.predict(X_test)\n",
    "\n",
    "print('Classification Model: {}'.format(clf.__class__.__name__))\n",
    "print('F1 Score: ',f1_score(y_test, y_pred, average='macro').round(4))\n",
    "print('Classification Report: \\n',classification_report(y_test, y_pred))\n",
    "\n",
    "if clf.__class__.__name__ not in results['Classification Model']:\n",
    "    results['Classification Model'].append(clf.__class__.__name__)\n",
    "    results['F1 Score'].append(f1_score(y_test, y_pred, average='macro').round(4))"
   ]
  },
  {
   "cell_type": "markdown",
   "id": "5f7f4f7b",
   "metadata": {},
   "source": [
    "## f) Gradient Boosting Classifier"
   ]
  },
  {
   "cell_type": "code",
   "execution_count": 78,
   "id": "4b9472bf",
   "metadata": {},
   "outputs": [
    {
     "name": "stdout",
     "output_type": "stream",
     "text": [
      "Classification Model: GradientBoostingClassifier\n",
      "F1 Score:  0.8661\n",
      "Classification Report: \n",
      "               precision    recall  f1-score   support\n",
      "\n",
      "           0       0.84      0.91      0.87     12647\n",
      "           1       0.90      0.82      0.86     12423\n",
      "\n",
      "    accuracy                           0.87     25070\n",
      "   macro avg       0.87      0.87      0.87     25070\n",
      "weighted avg       0.87      0.87      0.87     25070\n",
      "\n"
     ]
    }
   ],
   "source": [
    "from sklearn.ensemble import GradientBoostingClassifier\n",
    "\n",
    "clf = GradientBoostingClassifier()\n",
    "clf.fit(X_train, y_train)\n",
    "\n",
    "y_pred = clf.predict(X_test)\n",
    "\n",
    "print('Classification Model: {}'.format(clf.__class__.__name__))\n",
    "print('F1 Score: ',f1_score(y_test, y_pred, average='macro').round(4))\n",
    "print('Classification Report: \\n',classification_report(y_test, y_pred))\n",
    "\n",
    "if clf.__class__.__name__ not in results['Classification Model']:\n",
    "    results['Classification Model'].append(clf.__class__.__name__)\n",
    "    results['F1 Score'].append(f1_score(y_test, y_pred, average='macro').round(4))"
   ]
  },
  {
   "cell_type": "markdown",
   "id": "431fe860",
   "metadata": {},
   "source": [
    "## g) Xtreme Gradient Boosting Classifier"
   ]
  },
  {
   "cell_type": "code",
   "execution_count": 79,
   "id": "20809622",
   "metadata": {},
   "outputs": [
    {
     "name": "stdout",
     "output_type": "stream",
     "text": [
      "[10:35:29] WARNING: ..\\src\\learner.cc:1115: Starting in XGBoost 1.3.0, the default evaluation metric used with the objective 'binary:logistic' was changed from 'error' to 'logloss'. Explicitly set eval_metric if you'd like to restore the old behavior.\n",
      "Classification Model: XGBClassifier\n",
      "F1 Score:  0.9519\n",
      "Classification Report: \n",
      "               precision    recall  f1-score   support\n",
      "\n",
      "           0       0.92      0.99      0.95     12647\n",
      "           1       0.99      0.91      0.95     12423\n",
      "\n",
      "    accuracy                           0.95     25070\n",
      "   macro avg       0.96      0.95      0.95     25070\n",
      "weighted avg       0.96      0.95      0.95     25070\n",
      "\n"
     ]
    }
   ],
   "source": [
    "import xgboost as xgb\n",
    "\n",
    "clf = xgb.XGBClassifier(use_label_encoder =False)\n",
    "clf.fit(X_train, y_train)\n",
    "\n",
    "y_pred = clf.predict(X_test)\n",
    "\n",
    "print('Classification Model: {}'.format(clf.__class__.__name__))\n",
    "print('F1 Score: ',f1_score(y_test, y_pred, average='macro').round(4))\n",
    "print('Classification Report: \\n',classification_report(y_test, y_pred))\n",
    "\n",
    "if clf.__class__.__name__ not in results['Classification Model']:\n",
    "    results['Classification Model'].append(clf.__class__.__name__)\n",
    "    results['F1 Score'].append(f1_score(y_test, y_pred, average='macro').round(4))"
   ]
  },
  {
   "cell_type": "markdown",
   "id": "1e5953e8",
   "metadata": {},
   "source": [
    "## h) Gaussian NaiveBayes Classifier"
   ]
  },
  {
   "cell_type": "code",
   "execution_count": 80,
   "id": "3b8c51be",
   "metadata": {},
   "outputs": [
    {
     "name": "stdout",
     "output_type": "stream",
     "text": [
      "Classification Model: GaussianNB\n",
      "F1 Score:  0.6118\n",
      "Classification Report: \n",
      "               precision    recall  f1-score   support\n",
      "\n",
      "           0       0.59      0.87      0.71     12647\n",
      "           1       0.75      0.39      0.52     12423\n",
      "\n",
      "    accuracy                           0.63     25070\n",
      "   macro avg       0.67      0.63      0.61     25070\n",
      "weighted avg       0.67      0.63      0.61     25070\n",
      "\n"
     ]
    }
   ],
   "source": [
    "from sklearn.naive_bayes import GaussianNB  \n",
    "\n",
    "clf = GaussianNB()\n",
    "clf.fit(X_train, y_train)\n",
    "\n",
    "y_pred = clf.predict(X_test)\n",
    "\n",
    "print('Classification Model: {}'.format(clf.__class__.__name__))\n",
    "print('F1 Score: ',f1_score(y_test, y_pred, average='macro').round(4))\n",
    "print('Classification Report: \\n',classification_report(y_test, y_pred))\n",
    "\n",
    "if clf.__class__.__name__ not in results['Classification Model']:\n",
    "    results['Classification Model'].append(clf.__class__.__name__)\n",
    "    results['F1 Score'].append(f1_score(y_test, y_pred, average='macro').round(4))"
   ]
  },
  {
   "cell_type": "markdown",
   "id": "203e0f94",
   "metadata": {},
   "source": [
    "## i) Bagging Classifier"
   ]
  },
  {
   "cell_type": "code",
   "execution_count": 81,
   "id": "38f0ce61",
   "metadata": {},
   "outputs": [
    {
     "name": "stdout",
     "output_type": "stream",
     "text": [
      "Classification Model: BaggingClassifier\n",
      "F1 Score:  0.9313\n",
      "Classification Report: \n",
      "               precision    recall  f1-score   support\n",
      "\n",
      "           0       0.92      0.95      0.93     12647\n",
      "           1       0.95      0.91      0.93     12423\n",
      "\n",
      "    accuracy                           0.93     25070\n",
      "   macro avg       0.93      0.93      0.93     25070\n",
      "weighted avg       0.93      0.93      0.93     25070\n",
      "\n"
     ]
    }
   ],
   "source": [
    "from sklearn.ensemble import BaggingClassifier  \n",
    "\n",
    "clf = BaggingClassifier()\n",
    "clf.fit(X_train, y_train)\n",
    "\n",
    "y_pred = clf.predict(X_test)\n",
    "\n",
    "print('Classification Model: {}'.format(clf.__class__.__name__))\n",
    "print('F1 Score: ',f1_score(y_test, y_pred, average='macro').round(4))\n",
    "print('Classification Report: \\n',classification_report(y_test, y_pred))\n",
    "\n",
    "if clf.__class__.__name__ not in results['Classification Model']:\n",
    "    results['Classification Model'].append(clf.__class__.__name__)\n",
    "    results['F1 Score'].append(f1_score(y_test, y_pred, average='macro').round(4))"
   ]
  },
  {
   "cell_type": "markdown",
   "id": "8ed5c12e",
   "metadata": {},
   "source": [
    "## j) AdaBoost Classifier"
   ]
  },
  {
   "cell_type": "code",
   "execution_count": 82,
   "id": "5ea81056",
   "metadata": {},
   "outputs": [
    {
     "name": "stdout",
     "output_type": "stream",
     "text": [
      "Classification Model: AdaBoostClassifier\n",
      "F1 Score:  0.7286\n",
      "Classification Report: \n",
      "               precision    recall  f1-score   support\n",
      "\n",
      "           0       0.73      0.74      0.73     12647\n",
      "           1       0.73      0.72      0.72     12423\n",
      "\n",
      "    accuracy                           0.73     25070\n",
      "   macro avg       0.73      0.73      0.73     25070\n",
      "weighted avg       0.73      0.73      0.73     25070\n",
      "\n"
     ]
    }
   ],
   "source": [
    "from sklearn.ensemble import AdaBoostClassifier  \n",
    "\n",
    "clf = AdaBoostClassifier()\n",
    "clf.fit(X_train, y_train)\n",
    "\n",
    "y_pred = clf.predict(X_test)\n",
    "\n",
    "print('Classification Model: {}'.format(clf.__class__.__name__))\n",
    "print('F1 Score: ',f1_score(y_test, y_pred, average='macro').round(4))\n",
    "print('Classification Report: \\n',classification_report(y_test, y_pred))\n",
    "\n",
    "if clf.__class__.__name__ not in results['Classification Model']:\n",
    "    results['Classification Model'].append(clf.__class__.__name__)\n",
    "    results['F1 Score'].append(f1_score(y_test, y_pred, average='macro').round(4))"
   ]
  },
  {
   "cell_type": "markdown",
   "id": "53c9203a",
   "metadata": {},
   "source": [
    "# Consolidated Result:"
   ]
  },
  {
   "cell_type": "code",
   "execution_count": 83,
   "id": "3c08899e",
   "metadata": {},
   "outputs": [
    {
     "data": {
      "text/html": [
       "<div>\n",
       "<style scoped>\n",
       "    .dataframe tbody tr th:only-of-type {\n",
       "        vertical-align: middle;\n",
       "    }\n",
       "\n",
       "    .dataframe tbody tr th {\n",
       "        vertical-align: top;\n",
       "    }\n",
       "\n",
       "    .dataframe thead th {\n",
       "        text-align: right;\n",
       "    }\n",
       "</style>\n",
       "<table border=\"1\" class=\"dataframe\">\n",
       "  <thead>\n",
       "    <tr style=\"text-align: right;\">\n",
       "      <th></th>\n",
       "      <th>Classification Model</th>\n",
       "      <th>F1 Score</th>\n",
       "    </tr>\n",
       "  </thead>\n",
       "  <tbody>\n",
       "    <tr>\n",
       "      <th>0</th>\n",
       "      <td>LogisticRegression</td>\n",
       "      <td>0.6595</td>\n",
       "    </tr>\n",
       "    <tr>\n",
       "      <th>1</th>\n",
       "      <td>KNeighborsClassifier</td>\n",
       "      <td>0.8793</td>\n",
       "    </tr>\n",
       "    <tr>\n",
       "      <th>2</th>\n",
       "      <td>SVC</td>\n",
       "      <td>0.6786</td>\n",
       "    </tr>\n",
       "    <tr>\n",
       "      <th>3</th>\n",
       "      <td>DecisionTreeClassifier</td>\n",
       "      <td>0.9123</td>\n",
       "    </tr>\n",
       "    <tr>\n",
       "      <th>4</th>\n",
       "      <td>RandomForestClassifier</td>\n",
       "      <td>0.9319</td>\n",
       "    </tr>\n",
       "    <tr>\n",
       "      <th>5</th>\n",
       "      <td>GradientBoostingClassifier</td>\n",
       "      <td>0.8661</td>\n",
       "    </tr>\n",
       "    <tr>\n",
       "      <th>6</th>\n",
       "      <td>XGBClassifier</td>\n",
       "      <td>0.9519</td>\n",
       "    </tr>\n",
       "    <tr>\n",
       "      <th>7</th>\n",
       "      <td>GaussianNB</td>\n",
       "      <td>0.6118</td>\n",
       "    </tr>\n",
       "    <tr>\n",
       "      <th>8</th>\n",
       "      <td>BaggingClassifier</td>\n",
       "      <td>0.9313</td>\n",
       "    </tr>\n",
       "    <tr>\n",
       "      <th>9</th>\n",
       "      <td>AdaBoostClassifier</td>\n",
       "      <td>0.7286</td>\n",
       "    </tr>\n",
       "  </tbody>\n",
       "</table>\n",
       "</div>"
      ],
      "text/plain": [
       "         Classification Model  F1 Score\n",
       "0          LogisticRegression    0.6595\n",
       "1        KNeighborsClassifier    0.8793\n",
       "2                         SVC    0.6786\n",
       "3      DecisionTreeClassifier    0.9123\n",
       "4      RandomForestClassifier    0.9319\n",
       "5  GradientBoostingClassifier    0.8661\n",
       "6               XGBClassifier    0.9519\n",
       "7                  GaussianNB    0.6118\n",
       "8           BaggingClassifier    0.9313\n",
       "9          AdaBoostClassifier    0.7286"
      ]
     },
     "execution_count": 83,
     "metadata": {},
     "output_type": "execute_result"
    }
   ],
   "source": [
    "ConResult = pd.DataFrame(results)\n",
    "ConResult"
   ]
  },
  {
   "cell_type": "code",
   "execution_count": 84,
   "id": "ff5b129e",
   "metadata": {},
   "outputs": [
    {
     "data": {
      "image/png": "[encoded data removed]",
      "text/plain": [
       "<Figure size 720x432 with 1 Axes>"
      ]
     },
     "metadata": {
      "needs_background": "light"
     },
     "output_type": "display_data"
    }
   ],
   "source": [
    "plt.figure(figsize=(10,6))\n",
    "sns.barplot(x='F1 Score', y='Classification Model', data=results)\n",
    "plt.title('F1 Score of different Classification Models')\n",
    "plt.xlabel('F1 Score')\n",
    "plt.ylabel('Classification Model')\n",
    "plt.grid()\n",
    "plt.show()"
   ]
  },
  {
   "cell_type": "markdown",
   "id": "a9e18629",
   "metadata": {},
   "source": [
    "XGBClassifier is giving highest f1_score. Random Forest Classifier also performs well with second highest f1_score.\n",
    "So we do some fine tuning of these two models to improve its performance."
   ]
  },
  {
   "cell_type": "markdown",
   "id": "ba909405",
   "metadata": {},
   "source": [
    "# Hyperparameter Tuning"
   ]
  },
  {
   "cell_type": "markdown",
   "id": "a86085b2",
   "metadata": {},
   "source": [
    "Since we already have a high f1_score we are not performing feature engineeering again, instead we do some hyper parameter tuning."
   ]
  },
  {
   "cell_type": "markdown",
   "id": "6a28d0de",
   "metadata": {},
   "source": [
    "### Fine Tuning of XGB Classifier"
   ]
  },
  {
   "cell_type": "code",
   "execution_count": 85,
   "id": "f56d77ed",
   "metadata": {},
   "outputs": [
    {
     "data": {
      "text/plain": [
       "<bound method XGBModel.get_params of XGBClassifier(base_score=None, booster=None, colsample_bylevel=None,\n",
       "              colsample_bynode=None, colsample_bytree=None,\n",
       "              enable_categorical=False, gamma=None, gpu_id=None,\n",
       "              importance_type=None, interaction_constraints=None,\n",
       "              learning_rate=None, max_delta_step=None, max_depth=None,\n",
       "              min_child_weight=None, missing=nan, monotone_constraints=None,\n",
       "              n_estimators=100, n_jobs=None, num_parallel_tree=None,\n",
       "              predictor=None, random_state=None, reg_alpha=None,\n",
       "              reg_lambda=None, scale_pos_weight=None, subsample=None,\n",
       "              tree_method=None, validate_parameters=None, verbosity=None)>"
      ]
     },
     "execution_count": 85,
     "metadata": {},
     "output_type": "execute_result"
    }
   ],
   "source": [
    "# default parameters of xgb\n",
    "\n",
    "XGB = xgb.XGBClassifier()\n",
    "XGB.get_params"
   ]
  },
  {
   "cell_type": "code",
   "execution_count": 96,
   "id": "2c04281c",
   "metadata": {},
   "outputs": [
    {
     "name": "stdout",
     "output_type": "stream",
     "text": [
      "[13:29:58] WARNING: ..\\src\\learner.cc:1115: Starting in XGBoost 1.3.0, the default evaluation metric used with the objective 'binary:logistic' was changed from 'error' to 'logloss'. Explicitly set eval_metric if you'd like to restore the old behavior.\n",
      "F1 Score:  0.9529\n"
     ]
    }
   ],
   "source": [
    "# tuning some parameter values and checking for improvement\n",
    "\n",
    "XGB1 = xgb.XGBClassifier(learning_rate=0.1, n_estimators=500, max_depth=5,\n",
    "                        min_child_weight=1, gamma=0, subsample=0.8, colsample_bytree=0.8,\n",
    "                        use_label_encoder=False)\n",
    "XGB1.fit(X_train, y_train)\n",
    "y_pred = XGB1.predict(X_test)\n",
    "print('F1 Score: ',f1_score(y_test, y_pred, average='macro').round(4))"
   ]
  },
  {
   "cell_type": "markdown",
   "id": "dcea4a57",
   "metadata": {},
   "source": [
    "F1_score increased. We further tune the model."
   ]
  },
  {
   "cell_type": "markdown",
   "id": "f94a8d85",
   "metadata": {},
   "source": [
    "#### Tuning using GridSearchCV"
   ]
  },
  {
   "cell_type": "code",
   "execution_count": 88,
   "id": "8c2e88c1",
   "metadata": {},
   "outputs": [
    {
     "name": "stdout",
     "output_type": "stream",
     "text": [
      "[11:36:44] WARNING: ..\\src\\learner.cc:1115: Starting in XGBoost 1.3.0, the default evaluation metric used with the objective 'binary:logistic' was changed from 'error' to 'logloss'. Explicitly set eval_metric if you'd like to restore the old behavior.\n",
      "Best parameters:  {'max_depth': 9, 'min_child_weight': 1}\n",
      "Score:  0.951963192603927\n"
     ]
    }
   ],
   "source": [
    "# Tuning max_depth and min_child_weight\n",
    "param_test1 = {\n",
    "    'max_depth' : range(3, 10, 2),\n",
    "    'min_child_weight' : range(1, 8, 2)\n",
    "}\n",
    "\n",
    "from sklearn.model_selection import GridSearchCV\n",
    "\n",
    "gsearch1 = GridSearchCV(estimator=xgb.XGBClassifier(learning_rate=0.1, n_estimators=200, gamma=0,\n",
    "                                                subsample=0.8, colsample_bytree=0.8, use_label_encoder=False),\n",
    "                       param_grid=param_test1, scoring='f1', n_jobs=4, cv=5, return_train_score=True)\n",
    "gsearch1.fit(X_train, y_train)\n",
    "\n",
    "print('Best parameters: ',gsearch1.best_params_)\n",
    "print('Score: ',gsearch1.best_score_)"
   ]
  },
  {
   "cell_type": "code",
   "execution_count": 89,
   "id": "54fb507e",
   "metadata": {},
   "outputs": [
    {
     "name": "stdout",
     "output_type": "stream",
     "text": [
      "[11:57:07] WARNING: ..\\src\\learner.cc:1115: Starting in XGBoost 1.3.0, the default evaluation metric used with the objective 'binary:logistic' was changed from 'error' to 'logloss'. Explicitly set eval_metric if you'd like to restore the old behavior.\n",
      "Best parameters:  {'max_depth': 10}\n",
      "f1_Score:  0.9526838035266014\n"
     ]
    }
   ],
   "source": [
    "# deep check for optimum max_depth\n",
    "param_test2 = {\n",
    "    'max_depth' : [8, 9, 10]\n",
    "}\n",
    "gsearch2 = GridSearchCV(estimator=xgb.XGBClassifier(learning_rate=0.1, n_estimators=200, min_child_weight=1, gamma=0,\n",
    "                                                subsample=0.8, colsample_bytree=0.8, use_label_encoder=False),\n",
    "                       param_grid=param_test2, scoring='f1', n_jobs=4, cv=5, return_train_score=True)\n",
    "gsearch2.fit(X_train, y_train)\n",
    "\n",
    "print('Best parameters: ',gsearch2.best_params_)\n",
    "print('f1_Score: ',gsearch2.best_score_)"
   ]
  },
  {
   "cell_type": "code",
   "execution_count": 94,
   "id": "37f170ec",
   "metadata": {},
   "outputs": [
    {
     "name": "stdout",
     "output_type": "stream",
     "text": [
      "[13:07:20] WARNING: ..\\src\\learner.cc:1115: Starting in XGBoost 1.3.0, the default evaluation metric used with the objective 'binary:logistic' was changed from 'error' to 'logloss'. Explicitly set eval_metric if you'd like to restore the old behavior.\n",
      "Best parameters:  {'max_depth': 11, 'n_estimators': 250}\n",
      "f1_Score:  0.9539306619092034\n"
     ]
    }
   ],
   "source": [
    "# deep check for optimum max_depth\n",
    "param_test3 = {\n",
    "    'n_estimators': range(50, 400, 50),\n",
    "    'max_depth' : [8, 9, 10, 11]\n",
    "}\n",
    "gsearch3 = GridSearchCV(estimator=xgb.XGBClassifier(learning_rate=0.1, min_child_weight=1, gamma=0,\n",
    "                                                subsample=0.8, colsample_bytree=0.8, use_label_encoder=False),\n",
    "                       param_grid=param_test3, scoring='f1', n_jobs=4, cv=5, return_train_score=True)\n",
    "gsearch3.fit(X_train, y_train)\n",
    "\n",
    "print('Best parameters: ',gsearch3.best_params_)\n",
    "print('f1_Score: ',gsearch3.best_score_)"
   ]
  },
  {
   "cell_type": "markdown",
   "id": "f0defdbf",
   "metadata": {},
   "source": [
    "We take 'n_estimators'=250, 'max_depth'=10, 'min_child_weight'=1 as optimum value."
   ]
  },
  {
   "cell_type": "code",
   "execution_count": 95,
   "id": "ae7169f6",
   "metadata": {},
   "outputs": [
    {
     "name": "stdout",
     "output_type": "stream",
     "text": [
      "[13:26:10] WARNING: ..\\src\\learner.cc:1115: Starting in XGBoost 1.3.0, the default evaluation metric used with the objective 'binary:logistic' was changed from 'error' to 'logloss'. Explicitly set eval_metric if you'd like to restore the old behavior.\n",
      "Best parameters:  {'gamma': 0.1}\n",
      "f1_Score:  0.9538729848025002\n"
     ]
    }
   ],
   "source": [
    "# tune gamma\n",
    "param_test4 = {\n",
    "    'gamma' : [i/10.0 for i in range(0,10)]\n",
    "}\n",
    "gsearch4 = GridSearchCV(estimator=xgb.XGBClassifier(learning_rate=0.1, n_estimators=250, min_child_weight=1, max_depth=10,\n",
    "                                                    subsample=0.8, colsample_bytree=0.8, use_label_encoder=False),\n",
    "                       param_grid=param_test4, scoring='f1', n_jobs=4, cv=5, return_train_score=True)\n",
    "gsearch4.fit(X_train, y_train)\n",
    "\n",
    "print('Best parameters: ',gsearch4.best_params_)\n",
    "print('f1_Score: ',gsearch4.best_score_)"
   ]
  },
  {
   "cell_type": "code",
   "execution_count": 97,
   "id": "8a77b479",
   "metadata": {},
   "outputs": [
    {
     "name": "stdout",
     "output_type": "stream",
     "text": [
      "[13:31:20] WARNING: ..\\src\\learner.cc:1115: Starting in XGBoost 1.3.0, the default evaluation metric used with the objective 'binary:logistic' was changed from 'error' to 'logloss'. Explicitly set eval_metric if you'd like to restore the old behavior.\n",
      "F1 Score:  0.9563\n"
     ]
    }
   ],
   "source": [
    "# checking model with the determined optimum values\n",
    "XGB2 = xgb.XGBClassifier(learning_rate=0.1, n_estimators=250, max_depth=10,\n",
    "                        min_child_weight=1, gamma=0.1, subsample=0.8, colsample_bytree=0.8,\n",
    "                        use_label_encoder=False)\n",
    "XGB2.fit(X_train, y_train)\n",
    "y_pred = XGB2.predict(X_test)\n",
    "print('F1 Score: ',f1_score(y_test, y_pred, average='macro').round(4))"
   ]
  },
  {
   "cell_type": "markdown",
   "id": "e1219566",
   "metadata": {},
   "source": [
    "Our f1_score got further improved. "
   ]
  },
  {
   "cell_type": "code",
   "execution_count": 98,
   "id": "bd9e1922",
   "metadata": {},
   "outputs": [
    {
     "name": "stdout",
     "output_type": "stream",
     "text": [
      "[13:59:52] WARNING: ..\\src\\learner.cc:1115: Starting in XGBoost 1.3.0, the default evaluation metric used with the objective 'binary:logistic' was changed from 'error' to 'logloss'. Explicitly set eval_metric if you'd like to restore the old behavior.\n",
      "Best parameters:  {'colsample_bytree': 0.8, 'subsample': 0.9}\n",
      "f1_Score:  0.9539594318783162\n"
     ]
    }
   ],
   "source": [
    "# Tune subsample and colsample_bytree\n",
    "param_test5 = {\n",
    "    'subsample':[i/10.0 for i in range(5,10)],\n",
    " 'colsample_bytree':[i/10.0 for i in range(5,10)]\n",
    "}\n",
    "\n",
    "gsearch5 = GridSearchCV(estimator=xgb.XGBClassifier(learning_rate=0.1, n_estimators=250, min_child_weight=1, max_depth=10,\n",
    "                                                    gamma=0.1, use_label_encoder=False),\n",
    "                       param_grid=param_test5, scoring='f1', n_jobs=4, cv=5, return_train_score=True)\n",
    "gsearch5.fit(X_train, y_train)\n",
    "\n",
    "print('Best parameters: ',gsearch5.best_params_)\n",
    "print('f1_Score: ',gsearch5.best_score_)"
   ]
  },
  {
   "cell_type": "code",
   "execution_count": 99,
   "id": "8f675990",
   "metadata": {},
   "outputs": [
    {
     "name": "stdout",
     "output_type": "stream",
     "text": [
      "[14:08:30] WARNING: ..\\src\\learner.cc:1115: Starting in XGBoost 1.3.0, the default evaluation metric used with the objective 'binary:logistic' was changed from 'error' to 'logloss'. Explicitly set eval_metric if you'd like to restore the old behavior.\n",
      "Best parameters:  {'colsample_bytree': 0.9, 'subsample': 0.8}\n",
      "f1_Score:  0.9538297527823769\n"
     ]
    }
   ],
   "source": [
    "# deep check for optimum subsample and colsample_bytree\n",
    "param_test6 = {\n",
    "    'subsample':[i/100.0 for i in range(75,85,5)],\n",
    " 'colsample_bytree':[i/100.0 for i in range(85,95,5)]\n",
    "}\n",
    "\n",
    "gsearch6 = GridSearchCV(estimator=xgb.XGBClassifier(learning_rate=0.1, n_estimators=250, min_child_weight=1, max_depth=10,\n",
    "                                                    gamma=0.1, use_label_encoder=False),\n",
    "                       param_grid=param_test6, scoring='f1', n_jobs=4, cv=5, return_train_score=True)\n",
    "gsearch6.fit(X_train, y_train)\n",
    "\n",
    "print('Best parameters: ',gsearch6.best_params_)\n",
    "print('f1_Score: ',gsearch6.best_score_)"
   ]
  },
  {
   "cell_type": "code",
   "execution_count": 100,
   "id": "b72910f8",
   "metadata": {},
   "outputs": [
    {
     "name": "stdout",
     "output_type": "stream",
     "text": [
      "[14:13:43] WARNING: ..\\src\\learner.cc:1115: Starting in XGBoost 1.3.0, the default evaluation metric used with the objective 'binary:logistic' was changed from 'error' to 'logloss'. Explicitly set eval_metric if you'd like to restore the old behavior.\n",
      "F1 Score:  0.9562\n"
     ]
    }
   ],
   "source": [
    "# Checking the model wih optimum values of 'colsample_bytree' & 'subsample' as 0.85\n",
    "XGB3 = xgb.XGBClassifier(learning_rate=0.1, n_estimators=250, max_depth=10,\n",
    "                        min_child_weight=1, gamma=0.1, subsample=0.85, colsample_bytree=0.85,\n",
    "                        use_label_encoder=False)\n",
    "XGB3.fit(X_train, y_train)\n",
    "y_pred = XGB3.predict(X_test)\n",
    "print('F1 Score: ',f1_score(y_test, y_pred, average='macro').round(4))"
   ]
  },
  {
   "cell_type": "code",
   "execution_count": 101,
   "id": "49ea46c9",
   "metadata": {},
   "outputs": [
    {
     "name": "stdout",
     "output_type": "stream",
     "text": [
      "[14:27:54] WARNING: ..\\src\\learner.cc:1115: Starting in XGBoost 1.3.0, the default evaluation metric used with the objective 'binary:logistic' was changed from 'error' to 'logloss'. Explicitly set eval_metric if you'd like to restore the old behavior.\n",
      "Best parameters:  {'reg_alpha': 1e-05}\n",
      "f1_Score:  0.9538729848025002\n"
     ]
    }
   ],
   "source": [
    "# Tuning Regularization Parameters\n",
    "param_test7 = {\n",
    " 'reg_alpha':[1e-5, 1e-2, 0.1, 1, 100]\n",
    "}\n",
    "gsearch7 = GridSearchCV(estimator=xgb.XGBClassifier(learning_rate=0.1, n_estimators=250, min_child_weight=1, max_depth=10,\n",
    "                                                    gamma=0.1, subsample=0.8, colsample_bytree=0.8, use_label_encoder=False),\n",
    "                       param_grid=param_test7, scoring='f1', n_jobs=4, cv=5, return_train_score=True)\n",
    "gsearch7.fit(X_train, y_train)\n",
    "\n",
    "print('Best parameters: ',gsearch7.best_params_)\n",
    "print('f1_Score: ',gsearch7.best_score_)"
   ]
  },
  {
   "cell_type": "code",
   "execution_count": 102,
   "id": "32724bca",
   "metadata": {},
   "outputs": [
    {
     "name": "stdout",
     "output_type": "stream",
     "text": [
      "[14:40:35] WARNING: ..\\src\\learner.cc:1115: Starting in XGBoost 1.3.0, the default evaluation metric used with the objective 'binary:logistic' was changed from 'error' to 'logloss'. Explicitly set eval_metric if you'd like to restore the old behavior.\n",
      "F1 Score:  0.9563\n"
     ]
    }
   ],
   "source": [
    "# Checking the model with determined optimum values:\n",
    "XGB4 = xgb.XGBClassifier(learning_rate=0.1, n_estimators=250, max_depth=10,\n",
    "                        min_child_weight=1, gamma=0.1, subsample=0.8, colsample_bytree=0.8, reg_alpha=1e-05,\n",
    "                        use_label_encoder=False)\n",
    "XGB4.fit(X_train, y_train)\n",
    "y_pred = XGB4.predict(X_test)\n",
    "print('F1 Score: ',f1_score(y_test, y_pred, average='macro').round(4))"
   ]
  },
  {
   "cell_type": "markdown",
   "id": "c4402b00",
   "metadata": {},
   "source": [
    "Our XGB4 model have the highest f1_score (95.63%). By fine tuning of hyperparameters we could improve the f1_score from 95.19% to 95.63%."
   ]
  },
  {
   "cell_type": "code",
   "execution_count": 104,
   "id": "a843c823",
   "metadata": {},
   "outputs": [
    {
     "name": "stdout",
     "output_type": "stream",
     "text": [
      "[15:10:11] WARNING: ..\\src\\learner.cc:1115: Starting in XGBoost 1.3.0, the default evaluation metric used with the objective 'binary:logistic' was changed from 'error' to 'logloss'. Explicitly set eval_metric if you'd like to restore the old behavior.\n",
      "Classification Model: XGBClassifier\n",
      "Execution time is:  33.98173475265503 seconds\n",
      "Classification Report: \n",
      "               precision    recall  f1-score   support\n",
      "\n",
      "           0       0.93      0.99      0.96     12647\n",
      "           1       0.99      0.92      0.95     12423\n",
      "\n",
      "    accuracy                           0.96     25070\n",
      "   macro avg       0.96      0.96      0.96     25070\n",
      "weighted avg       0.96      0.96      0.96     25070\n",
      "\n"
     ]
    }
   ],
   "source": [
    "# classification chart of XGB4 model\n",
    "import time\n",
    "start = time.time()\n",
    "XGB4 = xgb.XGBClassifier(learning_rate=0.1, n_estimators=250, max_depth=10,\n",
    "                        min_child_weight=1, gamma=0.1, subsample=0.8, colsample_bytree=0.8, reg_alpha=1e-05,\n",
    "                        use_label_encoder=False)\n",
    "XGB4.fit(X_train, y_train)\n",
    "stop = time.time()\n",
    "y_pred = XGB4.predict(X_test)\n",
    "XGB4_time = stop-start\n",
    "print('Classification Model: {}'.format(XGB4.__class__.__name__))\n",
    "print('Execution time is: ',XGB4_time,'seconds')\n",
    "print('Classification Report: \\n',classification_report(y_test, y_pred))"
   ]
  },
  {
   "cell_type": "markdown",
   "id": "59c29288",
   "metadata": {},
   "source": [
    "## Fine tuning of Random Forest Classifier"
   ]
  },
  {
   "cell_type": "code",
   "execution_count": 112,
   "id": "8e07e835",
   "metadata": {
    "scrolled": true
   },
   "outputs": [
    {
     "data": {
      "text/plain": [
       "{'bootstrap': True,\n",
       " 'ccp_alpha': 0.0,\n",
       " 'class_weight': None,\n",
       " 'criterion': 'gini',\n",
       " 'max_depth': None,\n",
       " 'max_features': 'auto',\n",
       " 'max_leaf_nodes': None,\n",
       " 'max_samples': None,\n",
       " 'min_impurity_decrease': 0.0,\n",
       " 'min_impurity_split': None,\n",
       " 'min_samples_leaf': 1,\n",
       " 'min_samples_split': 2,\n",
       " 'min_weight_fraction_leaf': 0.0,\n",
       " 'n_estimators': 100,\n",
       " 'n_jobs': None,\n",
       " 'oob_score': False,\n",
       " 'random_state': None,\n",
       " 'verbose': 0,\n",
       " 'warm_start': False}"
      ]
     },
     "execution_count": 112,
     "metadata": {},
     "output_type": "execute_result"
    }
   ],
   "source": [
    "# getting parameters of RandomForest\n",
    "RF = RandomForestClassifier()\n",
    "RF.get_params(deep=True)"
   ]
  },
  {
   "cell_type": "markdown",
   "id": "f1366a57",
   "metadata": {},
   "source": [
    "#### fine tuning of RF Classifier using GridSearchCV"
   ]
  },
  {
   "cell_type": "code",
   "execution_count": 117,
   "id": "2ff24e57",
   "metadata": {},
   "outputs": [
    {
     "name": "stdout",
     "output_type": "stream",
     "text": [
      "Best parameters:  {'max_depth': 10, 'n_estimators': 200}\n",
      "f1 Score:  0.7964757784194214\n"
     ]
    }
   ],
   "source": [
    "param_grid1 = {\n",
    "    'n_estimators': [50, 100, 200, 300],\n",
    "    'max_depth': range(2,11,2)\n",
    "}\n",
    "    \n",
    "gsearch8 = GridSearchCV(estimator=RandomForestClassifier(), param_grid=param_grid1,\n",
    "                        scoring='f1', n_jobs=4, cv=3, return_train_score=True)\n",
    "gsearch8.fit(X_train, y_train)\n",
    "\n",
    "print('Best parameters: ',gsearch8.best_params_)\n",
    "print('f1 Score: ',gsearch8.best_score_)"
   ]
  },
  {
   "cell_type": "code",
   "execution_count": 126,
   "id": "1eb89d97",
   "metadata": {},
   "outputs": [
    {
     "name": "stdout",
     "output_type": "stream",
     "text": [
      "Best parameters:  {'max_depth': 30, 'n_estimators': 200}\n",
      "f1 Score:  0.9240008302509836\n"
     ]
    }
   ],
   "source": [
    "param_grid2 = {\n",
    "    'n_estimators': [ 150, 200, 250],\n",
    "    'max_depth': range(10,40,10)\n",
    "}\n",
    "    \n",
    "gsearch9 = GridSearchCV(estimator=RandomForestClassifier(), param_grid=param_grid2,\n",
    "                        scoring='f1', n_jobs=4, cv=3, return_train_score=True)\n",
    "gsearch9.fit(X_train, y_train)\n",
    "\n",
    "print('Best parameters: ',gsearch9.best_params_)\n",
    "print('f1 Score: ',gsearch9.best_score_)"
   ]
  },
  {
   "cell_type": "code",
   "execution_count": 127,
   "id": "147309f1",
   "metadata": {},
   "outputs": [
    {
     "name": "stdout",
     "output_type": "stream",
     "text": [
      "Best parameters:  {'min_samples_leaf': 1}\n",
      "f1 Score:  0.9227672544038795\n"
     ]
    }
   ],
   "source": [
    "param_grid3 = {\n",
    "    'min_samples_leaf': [1, 5, 10]\n",
    "}\n",
    "    \n",
    "gsearch10 = GridSearchCV(estimator=RandomForestClassifier(n_estimators=200, max_depth = 30), param_grid=param_grid3,\n",
    "                        scoring='f1', n_jobs=4, cv=3, return_train_score=True)\n",
    "gsearch10.fit(X_train, y_train)\n",
    "\n",
    "print('Best parameters: ',gsearch10.best_params_)\n",
    "print('f1 Score: ',gsearch10.best_score_)"
   ]
  },
  {
   "cell_type": "code",
   "execution_count": 128,
   "id": "fb7a1a6f",
   "metadata": {},
   "outputs": [
    {
     "name": "stdout",
     "output_type": "stream",
     "text": [
      "Best parameters:  {'bootstrap': True, 'max_features': 'auto'}\n",
      "f1 Score:  0.9281175187230882\n"
     ]
    }
   ],
   "source": [
    "param_grid4 = {\n",
    "    'max_features': ['auto', 'sqrt'],\n",
    "    'bootstrap': [True, False]\n",
    "}\n",
    "    \n",
    "gsearch11 = GridSearchCV(estimator=RandomForestClassifier(n_estimators=200, max_depth=30, min_samples_leaf=1),\n",
    "                         param_grid=param_grid4,\n",
    "                        scoring='f1', n_jobs=4, cv=5, return_train_score=True)\n",
    "gsearch11.fit(X_train, y_train)\n",
    "\n",
    "print('Best parameters: ',gsearch11.best_params_)\n",
    "print('f1 Score: ',gsearch11.best_score_)"
   ]
  },
  {
   "cell_type": "code",
   "execution_count": 129,
   "id": "e5267614",
   "metadata": {},
   "outputs": [
    {
     "name": "stdout",
     "output_type": "stream",
     "text": [
      "F1 Score:  0.9324\n"
     ]
    }
   ],
   "source": [
    "RF1 = RandomForestClassifier( n_estimators=200, max_depth=30, max_features='auto')\n",
    "RF1.fit(X_train, y_train)\n",
    "y_pred = RF1.predict(X_test)\n",
    "print('F1 Score: ',f1_score(y_test, y_pred, average='macro').round(4))"
   ]
  },
  {
   "cell_type": "markdown",
   "id": "b3332030",
   "metadata": {},
   "source": [
    "F1_score improved to 93.24% after fine tuning."
   ]
  },
  {
   "cell_type": "code",
   "execution_count": 130,
   "id": "a79d121a",
   "metadata": {},
   "outputs": [
    {
     "name": "stdout",
     "output_type": "stream",
     "text": [
      "Classification Model: RandomForestClassifier\n",
      "Execution time is:  46.38824272155762 seconds\n",
      "Classification Report: \n",
      "               precision    recall  f1-score   support\n",
      "\n",
      "           0       0.92      0.94      0.93     12647\n",
      "           1       0.94      0.92      0.93     12423\n",
      "\n",
      "    accuracy                           0.93     25070\n",
      "   macro avg       0.93      0.93      0.93     25070\n",
      "weighted avg       0.93      0.93      0.93     25070\n",
      "\n"
     ]
    }
   ],
   "source": [
    "# classification chart of RF model\n",
    "start = time.time()\n",
    "RF1 = RandomForestClassifier( n_estimators=200, max_depth=30, max_features='auto')\n",
    "RF1.fit(X_train, y_train)\n",
    "stop = time.time()\n",
    "y_pred = RF1.predict(X_test)\n",
    "RF1_time = stop-start\n",
    "print('Classification Model: {}'.format(RF1.__class__.__name__))\n",
    "print('Execution time is: ',RF1_time,'seconds')\n",
    "print('Classification Report: \\n',classification_report(y_test, y_pred))"
   ]
  },
  {
   "cell_type": "markdown",
   "id": "e7cabc94",
   "metadata": {},
   "source": [
    "# Inference:"
   ]
  },
  {
   "cell_type": "markdown",
   "id": "c0785014",
   "metadata": {},
   "source": [
    "XGB Model gives highest f1_score (0.96) and it takes only 33.98 seconds for execution.\n",
    "\n",
    "RF classifier have a f1_score of 0.9324 and it takes 46.38 seconds for execution."
   ]
  }
 ],
 "metadata": {
  "kernelspec": {
   "display_name": "Python 3 (ipykernel)",
   "language": "python",
   "name": "python3"
  },
  "language_info": {
   "codemirror_mode": {
    "name": "ipython",
    "version": 3
   },
   "file_extension": ".py",
   "mimetype": "text/x-python",
   "name": "python",
   "nbconvert_exporter": "python",
   "pygments_lexer": "ipython3",
   "version": "3.9.7"
  }
 },
 "nbformat": 4,
 "nbformat_minor": 5
}
